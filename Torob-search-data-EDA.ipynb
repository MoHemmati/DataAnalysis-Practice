{
 "cells": [
  {
   "attachments": {
    "04f31c53-483e-4bae-a4ef-aeed484c3692.png": {
     "image/png": "[encoded data removed]"
    }
   },
   "cell_type": "markdown",
   "id": "08ef7026-8c46-426c-b687-a95985c117e7",
   "metadata": {
    "pycharm": {
     "name": "#%% md\n"
    },
    "tags": []
   },
   "source": [
    "<img style=\"float: right;\" src=\"attachment:04f31c53-483e-4bae-a4ef-aeed484c3692.png\">\n",
    "\n",
    "# Exploratory Analysis of Torob Search Data\n",
    "\n",
    "The data consists of users' search logs as well as their clicks on search results in Torob. It also includes information for a sample of the products and product categories.\n",
    "\n"
   ]
  },
  {
   "cell_type": "markdown",
   "id": "fade52bf-d9c1-478d-b67c-cde75938b09a",
   "metadata": {
    "pycharm": {
     "name": "#%% md\n"
    }
   },
   "source": [
    "---"
   ]
  },
  {
   "cell_type": "markdown",
   "id": "0585c2a0-1e1e-4d39-8d51-e15ba19c991a",
   "metadata": {
    "pycharm": {
     "name": "#%% md\n"
    }
   },
   "source": [
    "## Import modules/libraries\n",
    "\n",
    "So, as usual, we first need to import the neccessary libraries and modules which we would use:"
   ]
  },
  {
   "cell_type": "code",
   "execution_count": 1,
   "id": "58237104-a28e-4ca4-883b-2f534ee8cc64",
   "metadata": {
    "pycharm": {
     "name": "#%%\n"
    }
   },
   "outputs": [],
   "source": [
    "import pandas as pd\n",
    "import numpy as np"
   ]
  },
  {
   "cell_type": "markdown",
   "id": "f093fda3-f41e-4a78-b18d-5d88a3680f2d",
   "metadata": {
    "pycharm": {
     "name": "#%% md\n"
    }
   },
   "source": [
    "---"
   ]
  },
  {
   "cell_type": "markdown",
   "id": "d5e3e7b2-10e0-4f11-8671-70b47e299af0",
   "metadata": {
    "pycharm": {
     "name": "#%% md\n"
    },
    "tags": []
   },
   "source": [
    "## Load and Inspect Data\n",
    "\n",
    "In this section we load the data from given files, and then we take a quick look at their structure and make sure they have been loaded properly."
   ]
  },
  {
   "cell_type": "markdown",
   "id": "74a0b0e7-6c09-4f39-8ee4-1149d9ca48d4",
   "metadata": {
    "pycharm": {
     "name": "#%% md\n"
    }
   },
   "source": [
    "### 🚩Load data from disk\n",
    "\n",
    "First, we need to load the data from disk as Pandas dataframes. There are four different dataframes which need to be loaded:\n",
    "- Search logs, stored in `search_logs.pkl`.\n",
    "- Search click logs, stored in `search_click_logs.pkl`.\n",
    "- Products info, stored in `products.pkl`.\n",
    "- Product categories info, stored in `categories.pkl`.\n",
    "\n",
    "Let's load them all and store each of them in a separate variable:"
   ]
  },
  {
   "cell_type": "markdown",
   "id": "de4f1863-860f-4e85-a59b-1d76423d0761",
   "metadata": {
    "pycharm": {
     "name": "#%% md\n"
    }
   },
   "source": [
    "**Write the answer below:** \\\n",
    "(Hint: Since they are stored as *pickled* files, we can easily use `pd.read_pickle` function.)"
   ]
  },
  {
   "cell_type": "code",
   "execution_count": 2,
   "id": "cedef7aa-0c8f-4761-a1c9-999adb77bdf8",
   "metadata": {
    "pycharm": {
     "name": "#%%\n"
    }
   },
   "outputs": [],
   "source": [
    "search_logs_df = pd.read_pickle('data/search_logs.pkl')\n",
    "search_click_logs_df = pd.read_pickle('data/search_click_logs.pkl')\n",
    "products_df = pd.read_pickle('data/products.pkl')\n",
    "categories_df = pd.read_pickle('data/categories.pkl')"
   ]
  },
  {
   "cell_type": "markdown",
   "id": "09fc00d6-0d63-4087-a7a5-bbcb9a22f022",
   "metadata": {
    "pycharm": {
     "name": "#%% md\n"
    },
    "tags": []
   },
   "source": [
    "### 🚩A quick peek at the data\n",
    "\n",
    "To quickly get a feel of the strucure of the data and see if it has been loaded correctly, we can check the first few rows of the dataframes. Let's take a look at the first five rows of each dataframe we loaded in the previous step:"
   ]
  },
  {
   "cell_type": "markdown",
   "id": "0c66d0e0-3e59-4c9b-98c0-c271fbfe7b71",
   "metadata": {
    "pycharm": {
     "name": "#%% md\n"
    }
   },
   "source": [
    "**Write the answer below:** \\\n",
    "(Hint: heads or tails?!)"
   ]
  },
  {
   "cell_type": "code",
   "execution_count": 3,
   "id": "4ade041d-ed7a-4445-ad58-0d9243be2cfc",
   "metadata": {
    "pycharm": {
     "name": "#%%\n"
    }
   },
   "outputs": [
    {
     "data": {
      "text/html": [
       "<div>\n",
       "<style scoped>\n",
       "    .dataframe tbody tr th:only-of-type {\n",
       "        vertical-align: middle;\n",
       "    }\n",
       "\n",
       "    .dataframe tbody tr th {\n",
       "        vertical-align: top;\n",
       "    }\n",
       "\n",
       "    .dataframe thead th {\n",
       "        text-align: right;\n",
       "    }\n",
       "</style>\n",
       "<table border=\"1\" class=\"dataframe\">\n",
       "  <thead>\n",
       "    <tr style=\"text-align: right;\">\n",
       "      <th></th>\n",
       "      <th>id</th>\n",
       "      <th>raw_query</th>\n",
       "      <th>result</th>\n",
       "      <th>datetime</th>\n",
       "      <th>category_id</th>\n",
       "      <th>user_id</th>\n",
       "    </tr>\n",
       "  </thead>\n",
       "  <tbody>\n",
       "    <tr>\n",
       "      <th>0</th>\n",
       "      <td>qahft</td>\n",
       "      <td>سرویس ملامین نشکن</td>\n",
       "      <td>[7840591, 1784875, 6716428, 6135112, 7103618, ...</td>\n",
       "      <td>2022-05-16 13:17:22.701000+00:00</td>\n",
       "      <td>NaN</td>\n",
       "      <td>MPOHZ</td>\n",
       "    </tr>\n",
       "    <tr>\n",
       "      <th>1</th>\n",
       "      <td>rxcka</td>\n",
       "      <td>جارو برقی</td>\n",
       "      <td>[451703, 8801989, 8977506, 4665205, 5219768, 5...</td>\n",
       "      <td>2022-05-18 11:24:02.385000+00:00</td>\n",
       "      <td>4792.0</td>\n",
       "      <td>NZPJN</td>\n",
       "    </tr>\n",
       "    <tr>\n",
       "      <th>2</th>\n",
       "      <td>fnafq</td>\n",
       "      <td>دسته ps4</td>\n",
       "      <td>[1457782, 5150503, 5921870, 909372, 9738201, 1...</td>\n",
       "      <td>2022-05-14 19:35:31.691000+00:00</td>\n",
       "      <td>NaN</td>\n",
       "      <td>NRMQA</td>\n",
       "    </tr>\n",
       "    <tr>\n",
       "      <th>3</th>\n",
       "      <td>ofpva</td>\n",
       "      <td>کلو تریمازول</td>\n",
       "      <td>[404198, 812389, 339213, 929557, 3632184, 7764...</td>\n",
       "      <td>2022-05-14 18:20:55.328000+00:00</td>\n",
       "      <td>NaN</td>\n",
       "      <td>WRYZT</td>\n",
       "    </tr>\n",
       "    <tr>\n",
       "      <th>4</th>\n",
       "      <td>usiey</td>\n",
       "      <td>قرص فولی کوژن</td>\n",
       "      <td>[8103652, 7283604, 4030781, 4756913, 3259566, ...</td>\n",
       "      <td>2022-05-13 19:50:03.519000+00:00</td>\n",
       "      <td>3196.0</td>\n",
       "      <td>TJLWU</td>\n",
       "    </tr>\n",
       "  </tbody>\n",
       "</table>\n",
       "</div>"
      ],
      "text/plain": [
       "      id          raw_query  \\\n",
       "0  qahft  سرویس ملامین نشکن   \n",
       "1  rxcka          جارو برقی   \n",
       "2  fnafq          دسته ps4    \n",
       "3  ofpva       کلو تریمازول   \n",
       "4  usiey      قرص فولی کوژن   \n",
       "\n",
       "                                              result  \\\n",
       "0  [7840591, 1784875, 6716428, 6135112, 7103618, ...   \n",
       "1  [451703, 8801989, 8977506, 4665205, 5219768, 5...   \n",
       "2  [1457782, 5150503, 5921870, 909372, 9738201, 1...   \n",
       "3  [404198, 812389, 339213, 929557, 3632184, 7764...   \n",
       "4  [8103652, 7283604, 4030781, 4756913, 3259566, ...   \n",
       "\n",
       "                          datetime  category_id user_id  \n",
       "0 2022-05-16 13:17:22.701000+00:00          NaN   MPOHZ  \n",
       "1 2022-05-18 11:24:02.385000+00:00       4792.0   NZPJN  \n",
       "2 2022-05-14 19:35:31.691000+00:00          NaN   NRMQA  \n",
       "3 2022-05-14 18:20:55.328000+00:00          NaN   WRYZT  \n",
       "4 2022-05-13 19:50:03.519000+00:00       3196.0   TJLWU  "
      ]
     },
     "execution_count": 3,
     "metadata": {},
     "output_type": "execute_result"
    }
   ],
   "source": [
    "search_logs_df.head()"
   ]
  },
  {
   "cell_type": "code",
   "execution_count": 4,
   "id": "1e341885-10a1-4c62-9e02-6a5103c514ec",
   "metadata": {
    "pycharm": {
     "name": "#%%\n"
    }
   },
   "outputs": [
    {
     "data": {
      "text/html": [
       "<div>\n",
       "<style scoped>\n",
       "    .dataframe tbody tr th:only-of-type {\n",
       "        vertical-align: middle;\n",
       "    }\n",
       "\n",
       "    .dataframe tbody tr th {\n",
       "        vertical-align: top;\n",
       "    }\n",
       "\n",
       "    .dataframe thead th {\n",
       "        text-align: right;\n",
       "    }\n",
       "</style>\n",
       "<table border=\"1\" class=\"dataframe\">\n",
       "  <thead>\n",
       "    <tr style=\"text-align: right;\">\n",
       "      <th></th>\n",
       "      <th>id</th>\n",
       "      <th>datetime</th>\n",
       "      <th>search_id</th>\n",
       "      <th>rank</th>\n",
       "    </tr>\n",
       "  </thead>\n",
       "  <tbody>\n",
       "    <tr>\n",
       "      <th>0</th>\n",
       "      <td>jstyz</td>\n",
       "      <td>2022-05-13 19:30:14.030000+00:00</td>\n",
       "      <td>iitnm</td>\n",
       "      <td>1</td>\n",
       "    </tr>\n",
       "    <tr>\n",
       "      <th>1</th>\n",
       "      <td>ewusk</td>\n",
       "      <td>2022-05-13 19:30:24.290000+00:00</td>\n",
       "      <td>scjlb</td>\n",
       "      <td>2</td>\n",
       "    </tr>\n",
       "    <tr>\n",
       "      <th>2</th>\n",
       "      <td>osnio</td>\n",
       "      <td>2022-05-13 19:30:24.394000+00:00</td>\n",
       "      <td>ohuqq</td>\n",
       "      <td>6</td>\n",
       "    </tr>\n",
       "    <tr>\n",
       "      <th>3</th>\n",
       "      <td>expgi</td>\n",
       "      <td>2022-05-13 19:30:30.500000+00:00</td>\n",
       "      <td>pzrcn</td>\n",
       "      <td>3</td>\n",
       "    </tr>\n",
       "    <tr>\n",
       "      <th>4</th>\n",
       "      <td>srgdy</td>\n",
       "      <td>2022-05-13 19:30:32.884000+00:00</td>\n",
       "      <td>mhlmr</td>\n",
       "      <td>5</td>\n",
       "    </tr>\n",
       "  </tbody>\n",
       "</table>\n",
       "</div>"
      ],
      "text/plain": [
       "      id                         datetime search_id  rank\n",
       "0  jstyz 2022-05-13 19:30:14.030000+00:00     iitnm     1\n",
       "1  ewusk 2022-05-13 19:30:24.290000+00:00     scjlb     2\n",
       "2  osnio 2022-05-13 19:30:24.394000+00:00     ohuqq     6\n",
       "3  expgi 2022-05-13 19:30:30.500000+00:00     pzrcn     3\n",
       "4  srgdy 2022-05-13 19:30:32.884000+00:00     mhlmr     5"
      ]
     },
     "execution_count": 4,
     "metadata": {},
     "output_type": "execute_result"
    }
   ],
   "source": [
    "search_click_logs_df.head()"
   ]
  },
  {
   "cell_type": "code",
   "execution_count": 5,
   "id": "5517ab9a-daca-432f-9dce-ad53aa60d745",
   "metadata": {
    "pycharm": {
     "name": "#%%\n"
    }
   },
   "outputs": [
    {
     "data": {
      "text/html": [
       "<div>\n",
       "<style scoped>\n",
       "    .dataframe tbody tr th:only-of-type {\n",
       "        vertical-align: middle;\n",
       "    }\n",
       "\n",
       "    .dataframe tbody tr th {\n",
       "        vertical-align: top;\n",
       "    }\n",
       "\n",
       "    .dataframe thead th {\n",
       "        text-align: right;\n",
       "    }\n",
       "</style>\n",
       "<table border=\"1\" class=\"dataframe\">\n",
       "  <thead>\n",
       "    <tr style=\"text-align: right;\">\n",
       "      <th></th>\n",
       "      <th>id</th>\n",
       "      <th>title</th>\n",
       "      <th>category_id</th>\n",
       "    </tr>\n",
       "  </thead>\n",
       "  <tbody>\n",
       "    <tr>\n",
       "      <th>0</th>\n",
       "      <td>758287</td>\n",
       "      <td>میکروسکوپ سلسترون مدل 44121</td>\n",
       "      <td>262</td>\n",
       "    </tr>\n",
       "    <tr>\n",
       "      <th>1</th>\n",
       "      <td>7164195</td>\n",
       "      <td>دوربین عکاسی نیکون مدل Nikon D5600 body</td>\n",
       "      <td>1273</td>\n",
       "    </tr>\n",
       "    <tr>\n",
       "      <th>2</th>\n",
       "      <td>3242621</td>\n",
       "      <td>دوچرخه شهری قناری مدل Space Shuttle سایز 16</td>\n",
       "      <td>3882</td>\n",
       "    </tr>\n",
       "    <tr>\n",
       "      <th>3</th>\n",
       "      <td>4277974</td>\n",
       "      <td>دوچرخه سایز 16 مدل  2020 Flying Bear قناری</td>\n",
       "      <td>3882</td>\n",
       "    </tr>\n",
       "    <tr>\n",
       "      <th>4</th>\n",
       "      <td>8671305</td>\n",
       "      <td>دوچرخه 12 قناری مدل JENNY</td>\n",
       "      <td>4320</td>\n",
       "    </tr>\n",
       "  </tbody>\n",
       "</table>\n",
       "</div>"
      ],
      "text/plain": [
       "        id                                        title  category_id\n",
       "0   758287                  میکروسکوپ سلسترون مدل 44121          262\n",
       "1  7164195      دوربین عکاسی نیکون مدل Nikon D5600 body         1273\n",
       "2  3242621  دوچرخه شهری قناری مدل Space Shuttle سایز 16         3882\n",
       "3  4277974   دوچرخه سایز 16 مدل  2020 Flying Bear قناری         3882\n",
       "4  8671305                    دوچرخه 12 قناری مدل JENNY         4320"
      ]
     },
     "execution_count": 5,
     "metadata": {},
     "output_type": "execute_result"
    }
   ],
   "source": [
    "products_df.head()"
   ]
  },
  {
   "cell_type": "code",
   "execution_count": 6,
   "id": "a01d412a-abc2-4bf4-bfe6-d23caa4cfbce",
   "metadata": {
    "pycharm": {
     "name": "#%%\n"
    }
   },
   "outputs": [
    {
     "data": {
      "text/html": [
       "<div>\n",
       "<style scoped>\n",
       "    .dataframe tbody tr th:only-of-type {\n",
       "        vertical-align: middle;\n",
       "    }\n",
       "\n",
       "    .dataframe tbody tr th {\n",
       "        vertical-align: top;\n",
       "    }\n",
       "\n",
       "    .dataframe thead th {\n",
       "        text-align: right;\n",
       "    }\n",
       "</style>\n",
       "<table border=\"1\" class=\"dataframe\">\n",
       "  <thead>\n",
       "    <tr style=\"text-align: right;\">\n",
       "      <th></th>\n",
       "      <th>title</th>\n",
       "      <th>id</th>\n",
       "      <th>parent_category_id</th>\n",
       "    </tr>\n",
       "  </thead>\n",
       "  <tbody>\n",
       "    <tr>\n",
       "      <th>0</th>\n",
       "      <td>گوشی موبایل</td>\n",
       "      <td>2580</td>\n",
       "      <td>175.0</td>\n",
       "    </tr>\n",
       "    <tr>\n",
       "      <th>1</th>\n",
       "      <td>تبلت</td>\n",
       "      <td>9458</td>\n",
       "      <td>175.0</td>\n",
       "    </tr>\n",
       "    <tr>\n",
       "      <th>2</th>\n",
       "      <td>هدفون، هدست و هندزفری</td>\n",
       "      <td>1092</td>\n",
       "      <td>175.0</td>\n",
       "    </tr>\n",
       "    <tr>\n",
       "      <th>3</th>\n",
       "      <td>لوازم جانبی موبایل و تبلت</td>\n",
       "      <td>8192</td>\n",
       "      <td>175.0</td>\n",
       "    </tr>\n",
       "    <tr>\n",
       "      <th>4</th>\n",
       "      <td>قطعات موبایل و تبلت</td>\n",
       "      <td>3596</td>\n",
       "      <td>175.0</td>\n",
       "    </tr>\n",
       "  </tbody>\n",
       "</table>\n",
       "</div>"
      ],
      "text/plain": [
       "                       title    id  parent_category_id\n",
       "0                گوشی موبایل  2580               175.0\n",
       "1                       تبلت  9458               175.0\n",
       "2      هدفون، هدست و هندزفری  1092               175.0\n",
       "3  لوازم جانبی موبایل و تبلت  8192               175.0\n",
       "4        قطعات موبایل و تبلت  3596               175.0"
      ]
     },
     "execution_count": 6,
     "metadata": {},
     "output_type": "execute_result"
    }
   ],
   "source": [
    "categories_df.head()"
   ]
  },
  {
   "cell_type": "markdown",
   "id": "5a441b8a-7098-4c96-82e9-568a8096d014",
   "metadata": {
    "pycharm": {
     "name": "#%% md\n"
    }
   },
   "source": [
    "---"
   ]
  },
  {
   "cell_type": "markdown",
   "id": "9b074fc3-710c-4cd8-afcd-ac8ee0b9e9ff",
   "metadata": {
    "pycharm": {
     "name": "#%% md\n"
    }
   },
   "source": [
    "## Data Validation\n",
    "\n",
    "Before starting our analysis, it's a good practice to validate the consistency of the data values and constraints with our expectations. There are various validity checks that could be done, and below we give you two examples."
   ]
  },
  {
   "cell_type": "markdown",
   "id": "b10cfa25-2316-442c-8a05-29ab6f2914fc",
   "metadata": {
    "pycharm": {
     "name": "#%% md\n"
    },
    "tags": []
   },
   "source": [
    "### 🚩Validate uniquness of ID columns\n",
    "\n",
    "For example, we can confirm whether all the unique ID columns (i.e. `id` column) have no duplicate values for all the dataframes we have. Let's check this for all the four dataframes:"
   ]
  },
  {
   "cell_type": "markdown",
   "id": "ad9f7982-de77-4a36-bae2-81223c2017c3",
   "metadata": {
    "pycharm": {
     "name": "#%% md\n"
    }
   },
   "source": [
    "**Write the answer below:**"
   ]
  },
  {
   "cell_type": "code",
   "execution_count": 7,
   "id": "2a4ff33a-8a91-48d2-b47a-2badb8ccef2d",
   "metadata": {
    "pycharm": {
     "name": "#%%\n"
    }
   },
   "outputs": [
    {
     "name": "stdout",
     "output_type": "stream",
     "text": [
      "False    539289\n",
      "dtype: int64\n",
      "False    295692\n",
      "dtype: int64\n",
      "False    108046\n",
      "dtype: int64\n",
      "False    3137\n",
      "dtype: int64\n"
     ]
    }
   ],
   "source": [
    "dups_search_logs = search_logs_df.duplicated(subset=['id'])\n",
    "print(dups_search_logs.value_counts())\n",
    "\n",
    "dups_search_click_logs = search_click_logs_df.duplicated(subset=['id'])\n",
    "print(dups_search_click_logs.value_counts())\n",
    "\n",
    "dups_products = products_df.duplicated(subset=['id'])\n",
    "print(dups_products.value_counts())\n",
    "\n",
    "dups_categories = categories_df.duplicated(subset=['id'])\n",
    "print(dups_categories.value_counts())\n",
    "\n",
    "# All ids are unique\n"
   ]
  },
  {
   "cell_type": "markdown",
   "id": "29761e60-4006-4019-a269-3aa5fb8a8097",
   "metadata": {
    "pycharm": {
     "name": "#%% md\n"
    }
   },
   "source": [
    "### 🚩Validate all the search clicks have a valid rank value\n",
    "\n",
    "Here, we would like to check two things about the rank of search click records: 1) they have no NaN value, 2) they are all between 0 and 9 (because searches have at most 10 results). Let's do these checks:"
   ]
  },
  {
   "cell_type": "markdown",
   "id": "a51d1afd-e4f3-4056-8d04-c387444962bd",
   "metadata": {
    "pycharm": {
     "name": "#%% md\n"
    }
   },
   "source": [
    "**Write the answer below:**"
   ]
  },
  {
   "cell_type": "code",
   "execution_count": 8,
   "id": "3dd1c351-4298-4455-ac64-5f64b96848f5",
   "metadata": {
    "pycharm": {
     "name": "#%%\n"
    }
   },
   "outputs": [
    {
     "name": "stdout",
     "output_type": "stream",
     "text": [
      "0\n",
      "Empty DataFrame\n",
      "Columns: [id, datetime, search_id, rank]\n",
      "Index: []\n"
     ]
    }
   ],
   "source": [
    "print(search_click_logs_df['rank'].isnull().sum())\n",
    "print(search_click_logs_df.loc[(search_click_logs_df['rank'] < 0) | (search_click_logs_df['rank'] > 9)])\n"
   ]
  },
  {
   "cell_type": "markdown",
   "id": "f0564ad2-ba53-4b7c-87b4-1a17ed4a1e6d",
   "metadata": {
    "pycharm": {
     "name": "#%% md\n"
    }
   },
   "source": [
    "---"
   ]
  },
  {
   "cell_type": "markdown",
   "id": "f649f30d-f971-4a45-90cf-6103149b31b9",
   "metadata": {
    "pycharm": {
     "name": "#%% md\n"
    },
    "tags": []
   },
   "source": [
    "## Exploratory Data Analysis (EDA)\n",
    "\n",
    "Now that we have loaded the data, we are ready to start the processing and analysis of our data."
   ]
  },
  {
   "cell_type": "markdown",
   "id": "a5c5b0fb-5c65-42da-868b-7783933cc5ba",
   "metadata": {
    "pycharm": {
     "name": "#%% md\n"
    },
    "tags": []
   },
   "source": [
    "### 🚩Number of searches and search clicks\n",
    "\n",
    "The most basic stat we can get from our data is the number of searches and search clicks we have. Let's find and print them:"
   ]
  },
  {
   "cell_type": "markdown",
   "id": "36a3a791-cd0a-4fb9-ad55-ba61356c5b09",
   "metadata": {
    "pycharm": {
     "name": "#%% md\n"
    }
   },
   "source": [
    "**Write the answer below:**"
   ]
  },
  {
   "cell_type": "code",
   "execution_count": 9,
   "id": "c9e03c0b-4e03-4b4a-bca2-9446434349d7",
   "metadata": {
    "pycharm": {
     "name": "#%%\n"
    }
   },
   "outputs": [
    {
     "name": "stdout",
     "output_type": "stream",
     "text": [
      "number of searches is : 539289\n",
      "number of search clicks is : 295692\n"
     ]
    }
   ],
   "source": [
    "print(\"number of searches is :\", len(search_logs_df))\n",
    "print(\"number of search clicks is :\", len(search_click_logs_df))"
   ]
  },
  {
   "cell_type": "markdown",
   "id": "b8e0fe09-7a3f-4926-bf3c-4433cdc08002",
   "metadata": {
    "pycharm": {
     "name": "#%% md\n"
    }
   },
   "source": [
    "### 🚩Number of unique search queries\n",
    "\n",
    "We can also calculate the number of unique search queries."
   ]
  },
  {
   "cell_type": "markdown",
   "id": "98e017c5-c22e-4837-a893-20066542b7ba",
   "metadata": {
    "pycharm": {
     "name": "#%% md\n"
    }
   },
   "source": [
    "**Write the answer below:**"
   ]
  },
  {
   "cell_type": "code",
   "execution_count": 10,
   "id": "39d84e83-8a1a-4a33-9c96-bf4a8fb8ea0d",
   "metadata": {
    "pycharm": {
     "name": "#%%\n"
    }
   },
   "outputs": [
    {
     "data": {
      "text/plain": [
       "0           سرویس ملامین نشکن\n",
       "1                   جارو برقی\n",
       "2                   دسته ps4 \n",
       "3                کلو تریمازول\n",
       "4               قرص فولی کوژن\n",
       "                 ...         \n",
       "260188     اسکیت دخترانه قرمز\n",
       "260189       سیم گیرنده رادیو\n",
       "260190    دستگاه همزن اب زرشک\n",
       "260191         گیره تزیینی مو\n",
       "260192      دراپ بنر بی تی اس\n",
       "Name: raw_query, Length: 260193, dtype: object"
      ]
     },
     "execution_count": 10,
     "metadata": {},
     "output_type": "execute_result"
    }
   ],
   "source": [
    "unique_search_log_df = search_logs_df['raw_query'].drop_duplicates()\n",
    "unique_search_log_df.reset_index(drop=True)"
   ]
  },
  {
   "cell_type": "markdown",
   "id": "6da1fe55-d215-49e6-bea4-4678cbd69449",
   "metadata": {
    "pycharm": {
     "name": "#%% md\n"
    }
   },
   "source": [
    "### 🚩Number of unique users\n",
    "\n",
    "Another basic stat is the number of unique users who searched on Torob. We can use `user_id` column to calculate this:"
   ]
  },
  {
   "cell_type": "markdown",
   "id": "ec8679da-d9b1-46aa-ba2d-8791dfb4251c",
   "metadata": {
    "pycharm": {
     "name": "#%% md\n"
    }
   },
   "source": [
    "**Write the answer below:**"
   ]
  },
  {
   "cell_type": "code",
   "execution_count": 11,
   "id": "abac1487-d97e-406a-84ce-30d92eee481e",
   "metadata": {
    "pycharm": {
     "name": "#%%\n"
    }
   },
   "outputs": [
    {
     "data": {
      "text/plain": [
       "0         MPOHZ\n",
       "1         NZPJN\n",
       "2         NRMQA\n",
       "3         WRYZT\n",
       "4         TJLWU\n",
       "          ...  \n",
       "311078    HSJYV\n",
       "311079    OUSMO\n",
       "311080    JVLCM\n",
       "311081    HTSOL\n",
       "311082    MVVMZ\n",
       "Name: user_id, Length: 311083, dtype: object"
      ]
     },
     "execution_count": 11,
     "metadata": {},
     "output_type": "execute_result"
    }
   ],
   "source": [
    "unique_search_log_df = search_logs_df['user_id'].drop_duplicates()\n",
    "unique_search_log_df.reset_index(drop=True)"
   ]
  },
  {
   "cell_type": "markdown",
   "id": "4fcac2f9-b364-4216-9c78-7952048472f3",
   "metadata": {
    "pycharm": {
     "name": "#%% md\n"
    },
    "tags": []
   },
   "source": [
    "### 🚩Most frequent search queries\n",
    "\n",
    "We would like to know which search queries are the most popular (i.e. most frequent). We can use the \"search logs\" data to find the answer. Find the top 20 most searched queries along with their number of searches:"
   ]
  },
  {
   "cell_type": "markdown",
   "id": "b8ec3e4f-3921-4875-87c3-9cf270dc6978",
   "metadata": {
    "pycharm": {
     "name": "#%% md\n"
    }
   },
   "source": [
    "**Write the answer below:**"
   ]
  },
  {
   "cell_type": "code",
   "execution_count": 12,
   "id": "3b677ef6-9531-4fcd-b4d4-093a4db1d0b2",
   "metadata": {
    "pycharm": {
     "name": "#%%\n"
    }
   },
   "outputs": [
    {
     "data": {
      "text/plain": [
       "iphone           7626\n",
       "دلار امریکا      3240\n",
       "کفش              3211\n",
       "روغن             2956\n",
       "لپ تاپ ایسوس     1940\n",
       "دوربین عکاسی     1929\n",
       "شیر              1781\n",
       "دوچرخه 26        1689\n",
       "xbox series s    1617\n",
       "لباس عروس        1577\n",
       "گوشی             1454\n",
       "روغن موتور       1333\n",
       "ماکروویو         1196\n",
       "xiaomi 12 pro    1083\n",
       "کاغذ a4          1012\n",
       "تلویزیون          843\n",
       "گوشی سامسونگ      812\n",
       "دوچرخه            807\n",
       "یخچال             789\n",
       "روغن خوراکی       787\n",
       "Name: raw_query, dtype: int64"
      ]
     },
     "execution_count": 12,
     "metadata": {},
     "output_type": "execute_result"
    }
   ],
   "source": [
    "search_logs_df['raw_query'].value_counts().head(20)"
   ]
  },
  {
   "cell_type": "markdown",
   "id": "a826f78a-01a8-4d5a-a1da-524f814e6794",
   "metadata": {
    "pycharm": {
     "name": "#%% md\n"
    }
   },
   "source": [
    "### 🚩Distribution of length of search queries\n",
    "\n",
    "We expect that the majority of search queries consist of at most three words. Let's confirm our expectation by calculating the number of words in each search query and then aggregate these values to see how the length of queries is distributed (i.e. find the distribution of number of words in search queries):"
   ]
  },
  {
   "cell_type": "markdown",
   "id": "0151cf2b-17aa-477f-8d90-c9940fa9953e",
   "metadata": {
    "pycharm": {
     "name": "#%% md\n"
    }
   },
   "source": [
    "**Write the answer below:**  \n",
    "(Hint: for the sake of simplicity, you can assume that in each search query the words are separated from each other by one or more whitespace characters. Yes, we know this is a simplification and has errors, but it's a good approximation. Further, note that the `str` acessor in Pandas gives you a lot of good methods for processing columns of type string and list.)"
   ]
  },
  {
   "cell_type": "code",
   "execution_count": 13,
   "id": "4d86acba-45dd-45c2-8e6a-b8275cb51803",
   "metadata": {
    "pycharm": {
     "name": "#%%\n"
    }
   },
   "outputs": [
    {
     "name": "stdout",
     "output_type": "stream",
     "text": [
      "0           [سرویس, ملامین, نشکن]\n",
      "1                    [جارو, برقی]\n",
      "2                 [, دسته, ps4, ]\n",
      "3                 [کلو, تریمازول]\n",
      "4               [قرص, فولی, کوژن]\n",
      "                   ...           \n",
      "539284         [گیره, تزیینی, مو]\n",
      "539285    [دراپ, بنر, بی, تی, اس]\n",
      "539286        [مینی, فرز, رونیکس]\n",
      "539287                     [t295]\n",
      "539288            [سرویس, قابلمه]\n",
      "Name: raw_query, Length: 539289, dtype: object\n",
      "2    212560\n",
      "3    139912\n",
      "1    138525\n",
      "4     42641\n",
      "5      5239\n",
      "6       393\n",
      "7        17\n",
      "8         1\n",
      "9         1\n",
      "Name: raw_query, dtype: int64\n"
     ]
    }
   ],
   "source": [
    "seprated_words_of_sq = search_logs_df['raw_query'].copy(deep=True)\n",
    "print(seprated_words_of_sq.str.split( ' ', n = -1, expand = False))\n",
    "seprated_words_of_sq = seprated_words_of_sq.replace(r'^\\s+', '', regex=True) \\\n",
    "                                            .replace(r'\\s+$', '', regex=True)\n",
    "seprated_words_of_sq = seprated_words_of_sq.str.split( ' ', n = -1, expand = False)\n",
    "print(seprated_words_of_sq.str.len().value_counts())"
   ]
  },
  {
   "cell_type": "markdown",
   "id": "12d23d55-81b4-4f47-a8be-25a3e5bec123",
   "metadata": {
    "pycharm": {
     "name": "#%% md\n"
    },
    "tags": []
   },
   "source": [
    "### 🚩Most common words in search queries\n",
    "\n",
    "Which words were most commonly used in the search queries? Find the top 20 most common words along with their number of occurrences in search queries:"
   ]
  },
  {
   "cell_type": "markdown",
   "id": "f1184224-d79e-417e-86b4-827bf3d2e8b1",
   "metadata": {
    "pycharm": {
     "name": "#%% md\n"
    }
   },
   "source": [
    "**Write the answer below:**  \n",
    "(Hint: split + explode!!!)"
   ]
  },
  {
   "cell_type": "code",
   "execution_count": 14,
   "id": "a154d403-9fac-4dbb-a738-1040998ee942",
   "metadata": {
    "pycharm": {
     "name": "#%%\n"
    }
   },
   "outputs": [
    {
     "data": {
      "text/plain": [
       "word   \n",
       "گوشی       12606\n",
       "روغن       11010\n",
       "iphone      9228\n",
       "موتور       8039\n",
       "کفش         7933\n",
       "pro         6381\n",
       "دوچرخه      6094\n",
       "سامسونگ     5598\n",
       "لباس        5334\n",
       "ماشین       5266\n",
       "ساعت        5132\n",
       "پراید       5109\n",
       "کولر        4777\n",
       "ای          4418\n",
       "برقی        4400\n",
       "تاپ         4179\n",
       "مردانه      4096\n",
       "یخچال       4040\n",
       "دوربین      4026\n",
       "لپ          3987\n",
       "dtype: int64"
      ]
     },
     "execution_count": 14,
     "metadata": {},
     "output_type": "execute_result"
    }
   ],
   "source": [
    "from itertools import chain\n",
    "\n",
    "indexes = list(chain(\n",
    "    *[[id]*len(word) for id, word in zip(seprated_words_of_sq.index, seprated_words_of_sq)]\n",
    "))    \n",
    "\n",
    "seprated_words_of_sq_df = pd.DataFrame({\n",
    "    'index': indexes,\n",
    "    'word': list(chain(*seprated_words_of_sq))\n",
    "})\n",
    "seprated_words_of_sq_df.set_index('index', inplace=True)\n",
    "seprated_words_of_sq_df.value_counts().head(20)"
   ]
  },
  {
   "cell_type": "markdown",
   "id": "904a3414-33b1-495e-a917-a8dced4ae7ed",
   "metadata": {
    "pycharm": {
     "name": "#%% md\n"
    },
    "tags": []
   },
   "source": [
    "### 🚩Localize date and time values\n",
    "\n",
    "Currently, the date & time values in the search and search-click dataframes are stored in UTC timezone. This is a best-pratice to store timestamp values in UTC when the data is stored in databases; however, for our next time-based analyses to be more understandable, we need to convert them all to Tehran timezone.\n",
    "\n",
    "Convert and replace the `datetime` columns in both search and search-click dataframes:"
   ]
  },
  {
   "cell_type": "markdown",
   "id": "78602831-ce6e-4246-af72-35f1857fe338",
   "metadata": {
    "pycharm": {
     "name": "#%% md\n"
    }
   },
   "source": [
    "**Write the answer below:**  \n",
    "(Hint: in Pandas, datetime columns have a `dt` accessor which offers some methods for manipulation of datetime values. Here, you should look for `tz_convert` method and use `'Asia/Tehran'` as the timezone.)"
   ]
  },
  {
   "cell_type": "code",
   "execution_count": 15,
   "id": "30c0903a-8ff0-437c-add6-2c0f664679f2",
   "metadata": {
    "pycharm": {
     "name": "#%%\n"
    }
   },
   "outputs": [],
   "source": [
    "search_logs_df.datetime = search_logs_df.datetime.dt.tz_convert('Asia/Tehran')\n",
    "search_click_logs_df.datetime = search_click_logs_df.datetime.dt.tz_convert('Asia/Tehran')"
   ]
  },
  {
   "cell_type": "markdown",
   "id": "42c81965-7584-41d0-9b52-640836bacf82",
   "metadata": {
    "pycharm": {
     "name": "#%% md\n"
    },
    "tags": []
   },
   "source": [
    "### 🚩Number of searches and search-clicks per weekday\n",
    "\n",
    "Now that we have converted the datetime to Tehran timezone, we are interested to know how many searches and search-clicks exist per weekday (i.e. Saturday, Sunday, Monday, etc.). We expect that both of these numbers to be a bit lower on weekends (i.e. Thursday and Friday).\n",
    "\n",
    "Calculate the number of searches and search-clicks per weekday and plot both alongside each other in a single bar plot:"
   ]
  },
  {
   "cell_type": "markdown",
   "id": "88f6b2f7-a997-4088-ae50-e9163b9d5213",
   "metadata": {
    "pycharm": {
     "name": "#%% md\n"
    }
   },
   "source": [
    "**Write the answer below:**  \n",
    "(Hint: again, you can use the methods which exist via `dt` accessor to get the weekday of datetime values. As a challenge, try to write all the calculations and plotting in just a single python statement by using method chaining... a lot!)"
   ]
  },
  {
   "cell_type": "code",
   "execution_count": 29,
   "id": "a6bbfecd-4c81-443d-bce7-a0d90e06d363",
   "metadata": {
    "pycharm": {
     "name": "#%%\n"
    }
   },
   "outputs": [
    {
     "data": {
      "text/plain": [
       "<AxesSubplot:xlabel='weekday'>"
      ]
     },
     "execution_count": 29,
     "metadata": {},
     "output_type": "execute_result"
    },
    {
     "data": {
      "image/png": "[encoded data removed]",
      "text/plain": [
       "<Figure size 432x288 with 1 Axes>"
      ]
     },
     "metadata": {
      "needs_background": "light"
     },
     "output_type": "display_data"
    },
    {
     "data": {
      "image/png": "[encoded data removed]",
      "text/plain": [
       "<Figure size 432x288 with 1 Axes>"
      ]
     },
     "metadata": {
      "needs_background": "light"
     },
     "output_type": "display_data"
    }
   ],
   "source": [
    "\n",
    "# Monday=0, Sunday=6.\n",
    "number_of_searches_per_weekday = search_logs_df.datetime.dt.weekday\n",
    "number_of_search_clicks_per_weekday = search_click_logs_df.datetime.dt.day_of_week\n",
    "\n",
    "number_of_searches_per_weekday_df = pd.DataFrame({'weekday':number_of_searches_per_weekday.value_counts().index, 'Count': number_of_searches_per_weekday.value_counts().values})\n",
    "number_of_search_clicks_per_weekday_df = pd.DataFrame({'weekday':number_of_search_clicks_per_weekday.value_counts().index, 'Count':number_of_search_clicks_per_weekday.value_counts().values})\n",
    "\n",
    "number_of_searches_per_weekday_df.sort_values('weekday').plot.bar(x='weekday', y='Count', rot=0)\n",
    "number_of_search_clicks_per_weekday_df.sort_values('weekday').plot.bar(x='weekday', y='Count')"
   ]
  },
  {
   "cell_type": "markdown",
   "id": "c16dce97-ac29-44a7-8bd3-bed31ca7e5b9",
   "metadata": {
    "pycharm": {
     "name": "#%% md\n"
    },
    "tags": []
   },
   "source": [
    "### 🚩Number of searches and search-clicks per hour of day\n",
    "\n",
    "Next, we would like to know which hour during the day has the most search traffic.\n",
    "\n",
    "Calculate the number of searches and search-clicks per hour and plot both alongside each other in a single bar plot (note that we are just interested in the hour regardless of the specific day; so the result should be aggregated based on hour **over all the days**):"
   ]
  },
  {
   "cell_type": "markdown",
   "id": "550e810e-9e8a-4377-a347-a2d53779c1e8",
   "metadata": {
    "pycharm": {
     "name": "#%% md\n"
    }
   },
   "source": [
    "**Write the answer below:**  \n",
    "(Hint: again, `dt` accessor is your friend here as well!)"
   ]
  },
  {
   "cell_type": "code",
   "execution_count": 30,
   "id": "cbe17079-54c4-47c8-b46d-30a9f3227d99",
   "metadata": {
    "pycharm": {
     "name": "#%%\n"
    }
   },
   "outputs": [
    {
     "data": {
      "text/plain": [
       "<AxesSubplot:xlabel='hour'>"
      ]
     },
     "execution_count": 30,
     "metadata": {},
     "output_type": "execute_result"
    },
    {
     "data": {
      "image/png": "[encoded data removed]",
      "text/plain": [
       "<Figure size 432x288 with 1 Axes>"
      ]
     },
     "metadata": {
      "needs_background": "light"
     },
     "output_type": "display_data"
    },
    {
     "data": {
      "image/png": "[encoded data removed]",
      "text/plain": [
       "<Figure size 432x288 with 1 Axes>"
      ]
     },
     "metadata": {
      "needs_background": "light"
     },
     "output_type": "display_data"
    }
   ],
   "source": [
    "number_of_searches_per_hour = search_logs_df.datetime.dt.hour\n",
    "number_of_search_clicks_per_hour = search_click_logs_df.datetime.dt.hour\n",
    "\n",
    "\n",
    "number_of_searches_per_hour_df = pd.DataFrame({'hour':number_of_searches_per_hour.value_counts().index, 'Count': number_of_searches_per_hour.value_counts().values})\n",
    "number_of_search_clicks_per_hour_df = pd.DataFrame({'hour':number_of_search_clicks_per_hour.value_counts().index, 'Count':number_of_search_clicks_per_hour.value_counts().values})\n",
    "\n",
    "number_of_searches_per_hour_df.sort_values('hour').plot.bar(x='hour', y='Count', rot=0)\n",
    "number_of_search_clicks_per_hour_df.sort_values('hour').plot.bar(x='hour', y='Count', rot=0)\n",
    "\n"
   ]
  },
  {
   "cell_type": "markdown",
   "id": "3a45dac8-e7bc-4f5c-a556-09f65b102f3c",
   "metadata": {
    "pycharm": {
     "name": "#%% md\n"
    },
    "tags": []
   },
   "source": [
    "### 🚩Top 10 most frequent search queries per weekday\n",
    "\n",
    "Now, instead of calculating the most frequent queries over all the timeframe of the data, we would like to find the top 10 most frequent queries per weekday (note that we don't need the number of searches for each query; we are just interested in the queries themeselves)."
   ]
  },
  {
   "cell_type": "markdown",
   "id": "f553734f-9abc-42a2-805e-871e3b01d9b7",
   "metadata": {
    "pycharm": {
     "name": "#%% md\n"
    }
   },
   "source": [
    "**Write the answer below:**  "
   ]
  },
  {
   "cell_type": "code",
   "execution_count": null,
   "id": "af77fde1-be61-4ead-ab41-da43a5149ae9",
   "metadata": {
    "pycharm": {
     "name": "#%%\n"
    }
   },
   "outputs": [],
   "source": []
  },
  {
   "cell_type": "markdown",
   "id": "3a33b8ac-ecf5-4b6d-9987-24f12dfcd38a",
   "metadata": {
    "pycharm": {
     "name": "#%% md\n"
    },
    "tags": []
   },
   "source": [
    "### 🚩Number of searches per user\n",
    "\n",
    "Next, we would like to know how many of the searches are done by our regular visitors or loyal users.\n",
    "\n",
    "Calculate the number of searches per user such that we could know the number of users with at most 3 searches, between 4 and 9 searches, and at least 10 searches."
   ]
  },
  {
   "cell_type": "markdown",
   "id": "d20eef5c-667f-4e6e-9373-8270616cab9e",
   "metadata": {
    "pycharm": {
     "name": "#%% md\n"
    }
   },
   "source": [
    "**Write the answer below:**  "
   ]
  },
  {
   "cell_type": "code",
   "execution_count": 32,
   "id": "310135a3-525d-4d91-948c-a3fc9d0d2465",
   "metadata": {
    "pycharm": {
     "name": "#%%\n"
    }
   },
   "outputs": [
    {
     "name": "stdout",
     "output_type": "stream",
     "text": [
      "  user_id  Number of searches\n",
      "0   NDQAS                 407\n",
      "1   IUFBI                 138\n",
      "2   PIIYT                  94\n",
      "3   XQTZS                  93\n",
      "4   EMDSX                  92\n",
      "       user_id  Number of searches\n",
      "24570    AISOU                   3\n",
      "24571    RNPAD                   3\n",
      "24572    TNMCT                   3\n",
      "24573    QYSYX                   3\n",
      "24574    RRILF                   3\n",
      "...        ...                 ...\n",
      "311078   TPMTL                   1\n",
      "311079   MRHPH                   1\n",
      "311080   JTDEU                   1\n",
      "311081   BUPQW                   1\n",
      "311082   MVVMZ                   1\n",
      "\n",
      "[286513 rows x 2 columns]\n",
      "      user_id  Number of searches\n",
      "2347    VECIG                   9\n",
      "2348    GOGZY                   9\n",
      "2349    DAXYG                   9\n",
      "2350    XXWJL                   9\n",
      "2351    IXMYC                   9\n",
      "...       ...                 ...\n",
      "24565   LLYWV                   4\n",
      "24566   XMWZX                   4\n",
      "24567   QHCSB                   4\n",
      "24568   XDAKK                   4\n",
      "24569   CMRCH                   4\n",
      "\n",
      "[22223 rows x 2 columns]\n"
     ]
    }
   ],
   "source": [
    "number_of_searches_done_by_each_user = pd.DataFrame({'user_id':search_logs_df.user_id.value_counts().index, 'Number of searches': search_logs_df.user_id.value_counts().values})\n",
    "print(number_of_searches_done_by_each_user.head(5))\n",
    "print(number_of_searches_done_by_each_user[number_of_searches_done_by_each_user['Number of searches'] < 4])\n",
    "print(number_of_searches_done_by_each_user.loc[(number_of_searches_done_by_each_user['Number of searches'] > 3) & (number_of_searches_done_by_each_user['Number of searches'] < 10)])\n",
    "# number_of_searches_done_by_each_user\n"
   ]
  },
  {
   "cell_type": "markdown",
   "id": "44c7bc72-c66a-4db4-b7a4-2a7a9ee0bc29",
   "metadata": {
    "pycharm": {
     "name": "#%% md\n"
    },
    "tags": []
   },
   "source": [
    "### 🚩Number of searches with or without a category\n",
    "\n",
    "For some of the searches, a product category is also selected by the user which limits the search results to only the products in the selected category. We would like to find the number of these searches and compare it against searches without category.\n",
    "\n",
    "Calculate the number of searches with and without a selected category by users:"
   ]
  },
  {
   "cell_type": "markdown",
   "id": "62c996fd-2b22-41f8-af39-79428d19de2d",
   "metadata": {
    "pycharm": {
     "name": "#%% md\n"
    }
   },
   "source": [
    "**Write the answer below:**  \n",
    "(Hint: if `category_id` is `NaN` for a search record, it means that search was performed without selecting a category; and consider that Pandas is very NA-friendly and also has methods for detecting `NaN` values.)"
   ]
  },
  {
   "cell_type": "code",
   "execution_count": 19,
   "id": "55323439-31fc-494a-b4d7-78d17b220af0",
   "metadata": {
    "pycharm": {
     "name": "#%%\n"
    }
   },
   "outputs": [
    {
     "name": "stdout",
     "output_type": "stream",
     "text": [
      "Number of searches with selected category by users is: 129240\n",
      "Number of searches without selected category by users is: 410049\n"
     ]
    }
   ],
   "source": [
    "print('Number of searches with selected category by users is:', search_logs_df.category_id.count())\n",
    "\n",
    "print('Number of searches without selected category by users is:', search_logs_df.category_id.isna().sum())"
   ]
  },
  {
   "cell_type": "markdown",
   "id": "123f587a-31ef-4218-aa44-e060e8b7b84f",
   "metadata": {
    "pycharm": {
     "name": "#%% md\n"
    },
    "tags": []
   },
   "source": [
    "### 🚩Most frequent search queries among searches with a category\n",
    "\n",
    "This is the same as the earlier exercise for finding the most frequent search queries, but it only consider searches with a selected category by user.\n",
    "\n",
    "Find the top 10 most frequent search queries among searches with a category, along with their number of searches:"
   ]
  },
  {
   "cell_type": "markdown",
   "id": "7440e672-e96f-4321-b323-b257807e1f7f",
   "metadata": {
    "pycharm": {
     "name": "#%% md\n"
    }
   },
   "source": [
    "**Write the answer below:**  "
   ]
  },
  {
   "cell_type": "code",
   "execution_count": 36,
   "id": "16bf56a4-d017-4a6a-bdbb-7887b7b281fa",
   "metadata": {
    "pycharm": {
     "name": "#%%\n"
    }
   },
   "outputs": [
    {
     "data": {
      "text/plain": [
       "روغن        1854\n",
       "گوشی         870\n",
       "تلویزیون     520\n",
       "یخچال        465\n",
       "موتور        364\n",
       "دوچرخه       325\n",
       "کولر         317\n",
       "ps5          291\n",
       "شیایومی      280\n",
       "هارد         280\n",
       "Name: raw_query, dtype: int64"
      ]
     },
     "execution_count": 36,
     "metadata": {},
     "output_type": "execute_result"
    }
   ],
   "source": [
    "searches_with_category_df = search_logs_df[search_logs_df['category_id'].notna()]\n",
    "searches_with_category_df = searches_with_category_df.reset_index(drop=True)\n",
    "searches_with_category_df['raw_query'].value_counts().head(10)\n",
    "# searches_with_category_df"
   ]
  },
  {
   "cell_type": "markdown",
   "id": "43c7a24a-84d9-4aa4-9fa5-01e027261f68",
   "metadata": {
    "pycharm": {
     "name": "#%% md\n"
    },
    "tags": []
   },
   "source": [
    "### 🚩Distribution of search clicks over different ranks\n",
    "\n",
    "Is it more likely that the users click on the top search results instead of the lower ranked results? To find out, we need to compute the distribution of search-clicks over different ranks (i.e. number of search-clicks per rank of the clicked product in the search result).\n",
    "\n",
    "Plot the distribution of number of search-clicks over different ranks using a bar plot:"
   ]
  },
  {
   "cell_type": "markdown",
   "id": "915c9895-cd19-4caf-9c16-9d167056e5ec",
   "metadata": {
    "pycharm": {
     "name": "#%% md\n"
    }
   },
   "source": [
    "**Write the answer below:**  "
   ]
  },
  {
   "cell_type": "code",
   "execution_count": 38,
   "id": "54e876bc-82a2-4533-a95e-c17ceabb1529",
   "metadata": {
    "pycharm": {
     "name": "#%%\n"
    }
   },
   "outputs": [
    {
     "data": {
      "text/plain": [
       "<AxesSubplot:xlabel='rank'>"
      ]
     },
     "execution_count": 38,
     "metadata": {},
     "output_type": "execute_result"
    },
    {
     "data": {
      "image/png": "[encoded data removed]",
      "text/plain": [
       "<Figure size 432x288 with 1 Axes>"
      ]
     },
     "metadata": {
      "needs_background": "light"
     },
     "output_type": "display_data"
    }
   ],
   "source": [
    "number_of_search_clicks_per_rank_df = pd.DataFrame({'rank':search_click_logs_df['rank'].value_counts().index, 'Number of search clicks':search_click_logs_df['rank'].value_counts().values})\n",
    "number_of_search_clicks_per_rank_df.plot.bar(x='rank', y='Number of search clicks', rot=0)"
   ]
  },
  {
   "cell_type": "markdown",
   "id": "003e752f-9213-4c8c-8d91-726d24ce7c3b",
   "metadata": {
    "pycharm": {
     "name": "#%% md\n"
    },
    "tags": []
   },
   "source": [
    "### 🚩Number of searches per number of search results\n",
    "\n",
    "How many of the searches have zero search result? How many of them have only 1 or 2 results? To find out, we can compute the distribution of number of searches per number of search-results.\n",
    "\n",
    "Calculate the full distribution of number of searches per number of search results:"
   ]
  },
  {
   "cell_type": "markdown",
   "id": "5f7c38cc-3f04-4465-ab0c-348edce777c8",
   "metadata": {
    "pycharm": {
     "name": "#%% md\n"
    }
   },
   "source": [
    "**Write the answer below:**  "
   ]
  },
  {
   "cell_type": "code",
   "execution_count": 22,
   "id": "8be7bedf-9dd7-4864-a990-2dd95a2bf8d6",
   "metadata": {
    "pycharm": {
     "name": "#%%\n"
    }
   },
   "outputs": [
    {
     "data": {
      "text/plain": [
       "10    521397\n",
       "0       7938\n",
       "1       2142\n",
       "2       1606\n",
       "3       1245\n",
       "4       1025\n",
       "6        868\n",
       "5        855\n",
       "8        791\n",
       "7        763\n",
       "9        659\n",
       "Name: result, dtype: int64"
      ]
     },
     "execution_count": 22,
     "metadata": {},
     "output_type": "execute_result"
    }
   ],
   "source": [
    "search_logs_df['result'].str.len().value_counts()"
   ]
  },
  {
   "cell_type": "markdown",
   "id": "c21cb978-c189-4ba5-95b6-77274f6fefa1",
   "metadata": {
    "pycharm": {
     "name": "#%% md\n"
    },
    "tags": []
   },
   "source": [
    "### 🚩Most searched categories\n",
    "\n",
    "Find the categories with the most of number of searches. We would like to know the ID of the categories as well as their **title**."
   ]
  },
  {
   "cell_type": "markdown",
   "id": "19318de6-3a29-4436-9fe9-bb47a9b7683c",
   "metadata": {
    "pycharm": {
     "name": "#%% md\n"
    }
   },
   "source": [
    "**Write the answer below:**  \n",
    "(Hint: we can calculate the ID of most searched categories from \"search logs\" dataframe, but to find their title we should also use the \"categories\" dataframe; hence you probably need to perform a \"join\"/\"merge\" operation to combine the information from two dataframes.)"
   ]
  },
  {
   "cell_type": "code",
   "execution_count": 40,
   "metadata": {
    "collapsed": false,
    "pycharm": {
     "name": "#%%\n"
    }
   },
   "outputs": [
    {
     "data": {
      "text/html": [
       "<div>\n",
       "<style scoped>\n",
       "    .dataframe tbody tr th:only-of-type {\n",
       "        vertical-align: middle;\n",
       "    }\n",
       "\n",
       "    .dataframe tbody tr th {\n",
       "        vertical-align: top;\n",
       "    }\n",
       "\n",
       "    .dataframe thead th {\n",
       "        text-align: right;\n",
       "    }\n",
       "</style>\n",
       "<table border=\"1\" class=\"dataframe\">\n",
       "  <thead>\n",
       "    <tr style=\"text-align: right;\">\n",
       "      <th></th>\n",
       "      <th>Number of search</th>\n",
       "      <th>title</th>\n",
       "      <th>parent_category_id</th>\n",
       "    </tr>\n",
       "    <tr>\n",
       "      <th>id</th>\n",
       "      <th></th>\n",
       "      <th></th>\n",
       "      <th></th>\n",
       "    </tr>\n",
       "  </thead>\n",
       "  <tbody>\n",
       "    <tr>\n",
       "      <th>2580.0</th>\n",
       "      <td>14960</td>\n",
       "      <td>گوشی موبایل</td>\n",
       "      <td>175.0</td>\n",
       "    </tr>\n",
       "    <tr>\n",
       "      <th>3110.0</th>\n",
       "      <td>2647</td>\n",
       "      <td>روغن خوراکی</td>\n",
       "      <td>482.0</td>\n",
       "    </tr>\n",
       "    <tr>\n",
       "      <th>8564.0</th>\n",
       "      <td>2170</td>\n",
       "      <td>لپ تاپ و نوت بوک</td>\n",
       "      <td>173.0</td>\n",
       "    </tr>\n",
       "    <tr>\n",
       "      <th>1092.0</th>\n",
       "      <td>2110</td>\n",
       "      <td>هدفون، هدست و هندزفری</td>\n",
       "      <td>175.0</td>\n",
       "    </tr>\n",
       "    <tr>\n",
       "      <th>820.0</th>\n",
       "      <td>2089</td>\n",
       "      <td>کارت گرافیک</td>\n",
       "      <td>240.0</td>\n",
       "    </tr>\n",
       "    <tr>\n",
       "      <th>2999.0</th>\n",
       "      <td>1699</td>\n",
       "      <td>تلویزیون</td>\n",
       "      <td>163.0</td>\n",
       "    </tr>\n",
       "    <tr>\n",
       "      <th>9663.0</th>\n",
       "      <td>1223</td>\n",
       "      <td>کیف و کاور گوشی</td>\n",
       "      <td>96.0</td>\n",
       "    </tr>\n",
       "    <tr>\n",
       "      <th>5094.0</th>\n",
       "      <td>1042</td>\n",
       "      <td>لوازم تزئینی خودرو</td>\n",
       "      <td>126.0</td>\n",
       "    </tr>\n",
       "    <tr>\n",
       "      <th>4476.0</th>\n",
       "      <td>926</td>\n",
       "      <td>کولر گازی</td>\n",
       "      <td>2527.0</td>\n",
       "    </tr>\n",
       "    <tr>\n",
       "      <th>6338.0</th>\n",
       "      <td>884</td>\n",
       "      <td>موتور سیکلت</td>\n",
       "      <td>458.0</td>\n",
       "    </tr>\n",
       "    <tr>\n",
       "      <th>3424.0</th>\n",
       "      <td>876</td>\n",
       "      <td>ساعت و مچ بند هوشمند</td>\n",
       "      <td>175.0</td>\n",
       "    </tr>\n",
       "    <tr>\n",
       "      <th>5213.0</th>\n",
       "      <td>840</td>\n",
       "      <td>یخچال و فریزر</td>\n",
       "      <td>132.0</td>\n",
       "    </tr>\n",
       "    <tr>\n",
       "      <th>3064.0</th>\n",
       "      <td>820</td>\n",
       "      <td>ماشین اصلاح و ریش‌ تراش</td>\n",
       "      <td>139.0</td>\n",
       "    </tr>\n",
       "    <tr>\n",
       "      <th>4792.0</th>\n",
       "      <td>762</td>\n",
       "      <td>لوازم خانگی</td>\n",
       "      <td>NaN</td>\n",
       "    </tr>\n",
       "    <tr>\n",
       "      <th>4087.0</th>\n",
       "      <td>761</td>\n",
       "      <td>اسپیکر و سیستم صوتی</td>\n",
       "      <td>165.0</td>\n",
       "    </tr>\n",
       "    <tr>\n",
       "      <th>618.0</th>\n",
       "      <td>735</td>\n",
       "      <td>اسپرسو ساز</td>\n",
       "      <td>1309.0</td>\n",
       "    </tr>\n",
       "    <tr>\n",
       "      <th>8197.0</th>\n",
       "      <td>699</td>\n",
       "      <td>کتاب و مجلات</td>\n",
       "      <td>2449.0</td>\n",
       "    </tr>\n",
       "    <tr>\n",
       "      <th>7470.0</th>\n",
       "      <td>688</td>\n",
       "      <td>پردازنده</td>\n",
       "      <td>240.0</td>\n",
       "    </tr>\n",
       "    <tr>\n",
       "      <th>766.0</th>\n",
       "      <td>684</td>\n",
       "      <td>مادربورد</td>\n",
       "      <td>240.0</td>\n",
       "    </tr>\n",
       "    <tr>\n",
       "      <th>4218.0</th>\n",
       "      <td>651</td>\n",
       "      <td>مانیتور</td>\n",
       "      <td>100.0</td>\n",
       "    </tr>\n",
       "  </tbody>\n",
       "</table>\n",
       "</div>"
      ],
      "text/plain": [
       "        Number of search                    title  parent_category_id\n",
       "id                                                                   \n",
       "2580.0             14960              گوشی موبایل               175.0\n",
       "3110.0              2647              روغن خوراکی               482.0\n",
       "8564.0              2170         لپ تاپ و نوت بوک               173.0\n",
       "1092.0              2110    هدفون، هدست و هندزفری               175.0\n",
       "820.0               2089              کارت گرافیک               240.0\n",
       "2999.0              1699                 تلویزیون               163.0\n",
       "9663.0              1223          کیف و کاور گوشی                96.0\n",
       "5094.0              1042       لوازم تزئینی خودرو               126.0\n",
       "4476.0               926                کولر گازی              2527.0\n",
       "6338.0               884              موتور سیکلت               458.0\n",
       "3424.0               876     ساعت و مچ بند هوشمند               175.0\n",
       "5213.0               840            یخچال و فریزر               132.0\n",
       "3064.0               820  ماشین اصلاح و ریش‌ تراش               139.0\n",
       "4792.0               762              لوازم خانگی                 NaN\n",
       "4087.0               761      اسپیکر و سیستم صوتی               165.0\n",
       "618.0                735               اسپرسو ساز              1309.0\n",
       "8197.0               699             کتاب و مجلات              2449.0\n",
       "7470.0               688                 پردازنده               240.0\n",
       "766.0                684                 مادربورد               240.0\n",
       "4218.0               651                  مانیتور               100.0"
      ]
     },
     "execution_count": 40,
     "metadata": {},
     "output_type": "execute_result"
    }
   ],
   "source": [
    "# find among searches with category id\n",
    "\n",
    "most_searched_categories_df = pd.DataFrame({'id':searches_with_category_df.category_id.value_counts().index, 'Number of search':searches_with_category_df.category_id.value_counts().values})\n",
    "categories_df_copy = categories_df.copy()\n",
    "\n",
    "categories_df_copy.set_index('id', inplace=True)\n",
    "most_searched_categories_df.set_index('id', inplace=True)\n",
    "\n",
    "most_searched_categories_df.join(categories_df_copy, how='left').head(20)"
   ]
  },
  {
   "cell_type": "markdown",
   "metadata": {
    "collapsed": false,
    "pycharm": {
     "name": "#%% md\n"
    }
   },
   "source": [
    "### 🚩Number of clicks per searches\n",
    "\n",
    "We would like to know how many of the searches have gotten no clicks, or how many of them have gotten more than one clicks. To find out, we should compute the distribution of number of clicks per searches:"
   ]
  },
  {
   "cell_type": "markdown",
   "metadata": {
    "collapsed": false,
    "pycharm": {
     "name": "#%% md\n"
    }
   },
   "source": [
    "**Write the answer below:**  \n",
    "(Hint: the search data and search-click data are in two different dataframes. So again we may need to perform a join/merge operation)."
   ]
  },
  {
   "cell_type": "code",
   "execution_count": 24,
   "metadata": {
    "collapsed": false,
    "pycharm": {
     "name": "#%%\n"
    }
   },
   "outputs": [
    {
     "name": "stdout",
     "output_type": "stream",
     "text": [
      "356272 searches have gotten no clicks\n",
      "295692 searches have gotten more than one click\n",
      "539289\n"
     ]
    }
   ],
   "source": [
    "\n",
    "most_clicked_searches_df = pd.DataFrame({'id':search_click_logs_df.search_id.value_counts().index, 'Number of clicks':search_click_logs_df.search_id.value_counts().values})\n",
    "search_logs_df_copy = search_logs_df.copy()\n",
    "\n",
    "\n",
    "result = pd.merge(search_logs_df_copy, most_clicked_searches_df, on='id', how='left')\n",
    "\n",
    "print(result['Number of clicks'].isnull().sum(), 'searches have gotten no clicks')\n",
    "print(most_clicked_searches_df['Number of clicks'].sum(), 'searches have gotten more than one click')\n",
    "print(len(search_logs_df_copy))"
   ]
  },
  {
   "cell_type": "markdown",
   "metadata": {
    "collapsed": false,
    "pycharm": {
     "name": "#%% md\n"
    }
   },
   "source": [
    "### 🚩Most clicked products\n",
    "\n",
    "We are interested to know which product are the most popular. For that, we can count the clicks of each product and consider the most clicked products as the most popular ones. So let's find the top 20 most clicked products (we would like to know the ID, title and number of clicks for those products):"
   ]
  },
  {
   "cell_type": "markdown",
   "metadata": {
    "collapsed": false,
    "pycharm": {
     "name": "#%% md\n"
    }
   },
   "source": [
    "**Write the answer below:**  \n",
    "(Hint: here we also need to combine information from multiple dataframes; to find the ID of clicked products, we need to consider both of \"search logs\" and \"search clicks\" dataframes, and for finding product info we additionally need the \"products\" dataframe.)"
   ]
  },
  {
   "cell_type": "code",
   "execution_count": 25,
   "id": "e96b7ae5",
   "metadata": {},
   "outputs": [],
   "source": [
    "\n",
    "merged_search_and_search_click = pd.merge(search_logs_df, search_click_logs_df, left_on='id', right_on='search_id')\n",
    "results, results_count = np.unique(np.asarray([merged_search_and_search_click['result'][i][merged_search_and_search_click['rank'][i]] for i in range(0, len(merged_search_and_search_click))]), return_counts=True)\n",
    "results_df = pd.DataFrame({\n",
    "    'result_by_rank': results,\n",
    "    'count': results_count\n",
    "})\n",
    "sorted_results_df = results_df.sort_values('count', ascending=False).head(20)\n"
   ]
  },
  {
   "cell_type": "code",
   "execution_count": 26,
   "id": "5c2bf784",
   "metadata": {},
   "outputs": [
    {
     "data": {
      "text/html": [
       "<div>\n",
       "<style scoped>\n",
       "    .dataframe tbody tr th:only-of-type {\n",
       "        vertical-align: middle;\n",
       "    }\n",
       "\n",
       "    .dataframe tbody tr th {\n",
       "        vertical-align: top;\n",
       "    }\n",
       "\n",
       "    .dataframe thead th {\n",
       "        text-align: right;\n",
       "    }\n",
       "</style>\n",
       "<table border=\"1\" class=\"dataframe\">\n",
       "  <thead>\n",
       "    <tr style=\"text-align: right;\">\n",
       "      <th></th>\n",
       "      <th>result_by_rank</th>\n",
       "      <th>count</th>\n",
       "      <th>id</th>\n",
       "      <th>title</th>\n",
       "      <th>category_id</th>\n",
       "    </tr>\n",
       "  </thead>\n",
       "  <tbody>\n",
       "    <tr>\n",
       "      <th>0</th>\n",
       "      <td>6754504</td>\n",
       "      <td>932</td>\n",
       "      <td>6754504</td>\n",
       "      <td>گوشی اپل iPhone 13 Pro max (Not Active) | حافظ...</td>\n",
       "      <td>2580</td>\n",
       "    </tr>\n",
       "    <tr>\n",
       "      <th>1</th>\n",
       "      <td>9619627</td>\n",
       "      <td>910</td>\n",
       "      <td>9619627</td>\n",
       "      <td>گوشی شیائومی Redmi Note 11 | حافظه 128 رم 6 گی...</td>\n",
       "      <td>2580</td>\n",
       "    </tr>\n",
       "    <tr>\n",
       "      <th>2</th>\n",
       "      <td>8783002</td>\n",
       "      <td>866</td>\n",
       "      <td>8783002</td>\n",
       "      <td>روغن نیمه جامد غنجه 4کیلویی</td>\n",
       "      <td>3110</td>\n",
       "    </tr>\n",
       "    <tr>\n",
       "      <th>3</th>\n",
       "      <td>3233307</td>\n",
       "      <td>705</td>\n",
       "      <td>3233307</td>\n",
       "      <td>گوشی سامسونگ A32  | حافظه 128 رم 6 گیگابایت</td>\n",
       "      <td>2580</td>\n",
       "    </tr>\n",
       "    <tr>\n",
       "      <th>4</th>\n",
       "      <td>6018703</td>\n",
       "      <td>665</td>\n",
       "      <td>6018703</td>\n",
       "      <td>روغن آفتابگردان غنی شده با ویتامین دی810 گرم ا...</td>\n",
       "      <td>3110</td>\n",
       "    </tr>\n",
       "    <tr>\n",
       "      <th>5</th>\n",
       "      <td>541613</td>\n",
       "      <td>654</td>\n",
       "      <td>541613</td>\n",
       "      <td>روغن نیمه جامد حاوی امگا3 مناسب پخت و پز لادن ...</td>\n",
       "      <td>3110</td>\n",
       "    </tr>\n",
       "    <tr>\n",
       "      <th>6</th>\n",
       "      <td>5373323</td>\n",
       "      <td>601</td>\n",
       "      <td>5373323</td>\n",
       "      <td>گوشی سامسونگ S21 FE 5G | حافظه 256 رم 8 گیگاب...</td>\n",
       "      <td>2580</td>\n",
       "    </tr>\n",
       "    <tr>\n",
       "      <th>7</th>\n",
       "      <td>3712777</td>\n",
       "      <td>576</td>\n",
       "      <td>3712777</td>\n",
       "      <td>گوشی شیائومی 11T Pro 5G | حافظه 256 رم 12 گیگا...</td>\n",
       "      <td>2580</td>\n",
       "    </tr>\n",
       "    <tr>\n",
       "      <th>8</th>\n",
       "      <td>5187589</td>\n",
       "      <td>574</td>\n",
       "      <td>5187589</td>\n",
       "      <td>گوشی شیائومی Poco F3 5G | حافظه 256 رم 8 گیگابایت</td>\n",
       "      <td>2580</td>\n",
       "    </tr>\n",
       "    <tr>\n",
       "      <th>9</th>\n",
       "      <td>9634256</td>\n",
       "      <td>556</td>\n",
       "      <td>9634256</td>\n",
       "      <td>گوشی سامسونگ A13 | حافظه 64 رم 4 گیگابایت</td>\n",
       "      <td>2580</td>\n",
       "    </tr>\n",
       "    <tr>\n",
       "      <th>10</th>\n",
       "      <td>9385946</td>\n",
       "      <td>553</td>\n",
       "      <td>9385946</td>\n",
       "      <td>گوشی اپل (استوک) iPhone 11 Pro | حافظه 256 گیگ...</td>\n",
       "      <td>2580</td>\n",
       "    </tr>\n",
       "    <tr>\n",
       "      <th>11</th>\n",
       "      <td>6018876</td>\n",
       "      <td>540</td>\n",
       "      <td>6018876</td>\n",
       "      <td>گوشی سامسونگ S22 Ultra 5G | حافظه 256 رم 12 گی...</td>\n",
       "      <td>2580</td>\n",
       "    </tr>\n",
       "    <tr>\n",
       "      <th>12</th>\n",
       "      <td>9193664</td>\n",
       "      <td>516</td>\n",
       "      <td>9193664</td>\n",
       "      <td>گوشی سامسونگ A12 Nacho | حافظه 64 رم 4 گیگابایت</td>\n",
       "      <td>2580</td>\n",
       "    </tr>\n",
       "    <tr>\n",
       "      <th>13</th>\n",
       "      <td>5683508</td>\n",
       "      <td>513</td>\n",
       "      <td>5683508</td>\n",
       "      <td>گوشی شیائومی Redmi Note 11 Pro | حافظه 128 رم ...</td>\n",
       "      <td>2580</td>\n",
       "    </tr>\n",
       "    <tr>\n",
       "      <th>14</th>\n",
       "      <td>2783029</td>\n",
       "      <td>494</td>\n",
       "      <td>2783029</td>\n",
       "      <td>گوشی سامسونگ A52 | حافظه 128 رم 8 گیگابایت</td>\n",
       "      <td>2580</td>\n",
       "    </tr>\n",
       "    <tr>\n",
       "      <th>15</th>\n",
       "      <td>7315523</td>\n",
       "      <td>484</td>\n",
       "      <td>7315523</td>\n",
       "      <td>کنسول بازی مایکروسافت Xbox Series S | حافظه 51...</td>\n",
       "      <td>8816</td>\n",
       "    </tr>\n",
       "    <tr>\n",
       "      <th>16</th>\n",
       "      <td>2566030</td>\n",
       "      <td>481</td>\n",
       "      <td>2566030</td>\n",
       "      <td>گوشی اپل (استوک) iPhone 11 | حافظه 128 گیگابایت</td>\n",
       "      <td>2580</td>\n",
       "    </tr>\n",
       "    <tr>\n",
       "      <th>17</th>\n",
       "      <td>253379</td>\n",
       "      <td>476</td>\n",
       "      <td>253379</td>\n",
       "      <td>گوشی شیائومی POCO X3 Pro | حافظه 256 رم 8 گیگا...</td>\n",
       "      <td>2580</td>\n",
       "    </tr>\n",
       "    <tr>\n",
       "      <th>18</th>\n",
       "      <td>1078897</td>\n",
       "      <td>434</td>\n",
       "      <td>1078897</td>\n",
       "      <td>گوشی سامسونگ A52s 5G | حافظه 128 رم 8 گیگابایت</td>\n",
       "      <td>2580</td>\n",
       "    </tr>\n",
       "    <tr>\n",
       "      <th>19</th>\n",
       "      <td>8625118</td>\n",
       "      <td>430</td>\n",
       "      <td>8625118</td>\n",
       "      <td>کنسول بازی سونی PlayStation 5 استاندارد</td>\n",
       "      <td>5018</td>\n",
       "    </tr>\n",
       "  </tbody>\n",
       "</table>\n",
       "</div>"
      ],
      "text/plain": [
       "    result_by_rank  count       id  \\\n",
       "0          6754504    932  6754504   \n",
       "1          9619627    910  9619627   \n",
       "2          8783002    866  8783002   \n",
       "3          3233307    705  3233307   \n",
       "4          6018703    665  6018703   \n",
       "5           541613    654   541613   \n",
       "6          5373323    601  5373323   \n",
       "7          3712777    576  3712777   \n",
       "8          5187589    574  5187589   \n",
       "9          9634256    556  9634256   \n",
       "10         9385946    553  9385946   \n",
       "11         6018876    540  6018876   \n",
       "12         9193664    516  9193664   \n",
       "13         5683508    513  5683508   \n",
       "14         2783029    494  2783029   \n",
       "15         7315523    484  7315523   \n",
       "16         2566030    481  2566030   \n",
       "17          253379    476   253379   \n",
       "18         1078897    434  1078897   \n",
       "19         8625118    430  8625118   \n",
       "\n",
       "                                                title  category_id  \n",
       "0   گوشی اپل iPhone 13 Pro max (Not Active) | حافظ...         2580  \n",
       "1   گوشی شیائومی Redmi Note 11 | حافظه 128 رم 6 گی...         2580  \n",
       "2                         روغن نیمه جامد غنجه 4کیلویی         3110  \n",
       "3         گوشی سامسونگ A32  | حافظه 128 رم 6 گیگابایت         2580  \n",
       "4   روغن آفتابگردان غنی شده با ویتامین دی810 گرم ا...         3110  \n",
       "5   روغن نیمه جامد حاوی امگا3 مناسب پخت و پز لادن ...         3110  \n",
       "6    گوشی سامسونگ S21 FE 5G | حافظه 256 رم 8 گیگاب...         2580  \n",
       "7   گوشی شیائومی 11T Pro 5G | حافظه 256 رم 12 گیگا...         2580  \n",
       "8   گوشی شیائومی Poco F3 5G | حافظه 256 رم 8 گیگابایت         2580  \n",
       "9           گوشی سامسونگ A13 | حافظه 64 رم 4 گیگابایت         2580  \n",
       "10  گوشی اپل (استوک) iPhone 11 Pro | حافظه 256 گیگ...         2580  \n",
       "11  گوشی سامسونگ S22 Ultra 5G | حافظه 256 رم 12 گی...         2580  \n",
       "12    گوشی سامسونگ A12 Nacho | حافظه 64 رم 4 گیگابایت         2580  \n",
       "13  گوشی شیائومی Redmi Note 11 Pro | حافظه 128 رم ...         2580  \n",
       "14         گوشی سامسونگ A52 | حافظه 128 رم 8 گیگابایت         2580  \n",
       "15  کنسول بازی مایکروسافت Xbox Series S | حافظه 51...         8816  \n",
       "16    گوشی اپل (استوک) iPhone 11 | حافظه 128 گیگابایت         2580  \n",
       "17  گوشی شیائومی POCO X3 Pro | حافظه 256 رم 8 گیگا...         2580  \n",
       "18     گوشی سامسونگ A52s 5G | حافظه 128 رم 8 گیگابایت         2580  \n",
       "19            کنسول بازی سونی PlayStation 5 استاندارد         5018  "
      ]
     },
     "execution_count": 26,
     "metadata": {},
     "output_type": "execute_result"
    }
   ],
   "source": [
    "merged_sorted_result_and_products = pd.merge(sorted_results_df, products_df, left_on='result_by_rank', right_on='id')\n",
    "merged_sorted_result_and_products"
   ]
  },
  {
   "cell_type": "markdown",
   "id": "2fd84446-488e-452a-b557-94754b50709c",
   "metadata": {
    "pycharm": {
     "name": "#%% md\n"
    },
    "tags": []
   },
   "source": [
    "### 🚩Most clicked categories\n",
    "\n",
    "And finally, we would like to know which categories of the products have the most clicks. In other words, we would like to find out products of which categories have gotten the most clicks in total. Let's find the top 10 most clicked categories, including the ID and title of the categories as well as the total number of clicks for each of those categories:"
   ]
  },
  {
   "cell_type": "markdown",
   "id": "3a52f2dc-f667-49d5-aaff-d63d21b44476",
   "metadata": {
    "pycharm": {
     "name": "#%% md\n"
    }
   },
   "source": [
    "**Write the answer below:**  \n",
    "(Hint: again, to calculate this, we need to combine the information of multiple dataframes... actually, all of them!)"
   ]
  },
  {
   "cell_type": "code",
   "execution_count": 27,
   "id": "6bdb730a-76d4-4357-a6fe-33200b4390dd",
   "metadata": {
    "pycharm": {
     "name": "#%%\n"
    }
   },
   "outputs": [
    {
     "data": {
      "text/html": [
       "<div>\n",
       "<style scoped>\n",
       "    .dataframe tbody tr th:only-of-type {\n",
       "        vertical-align: middle;\n",
       "    }\n",
       "\n",
       "    .dataframe tbody tr th {\n",
       "        vertical-align: top;\n",
       "    }\n",
       "\n",
       "    .dataframe thead th {\n",
       "        text-align: right;\n",
       "    }\n",
       "</style>\n",
       "<table border=\"1\" class=\"dataframe\">\n",
       "  <thead>\n",
       "    <tr style=\"text-align: right;\">\n",
       "      <th></th>\n",
       "      <th>clicked category</th>\n",
       "      <th>count</th>\n",
       "      <th>title</th>\n",
       "      <th>id</th>\n",
       "      <th>parent_category_id</th>\n",
       "    </tr>\n",
       "  </thead>\n",
       "  <tbody>\n",
       "    <tr>\n",
       "      <th>0</th>\n",
       "      <td>2580.0</td>\n",
       "      <td>10934</td>\n",
       "      <td>گوشی موبایل</td>\n",
       "      <td>2580</td>\n",
       "      <td>175.0</td>\n",
       "    </tr>\n",
       "    <tr>\n",
       "      <th>1</th>\n",
       "      <td>3110.0</td>\n",
       "      <td>2762</td>\n",
       "      <td>روغن خوراکی</td>\n",
       "      <td>3110</td>\n",
       "      <td>482.0</td>\n",
       "    </tr>\n",
       "    <tr>\n",
       "      <th>2</th>\n",
       "      <td>8564.0</td>\n",
       "      <td>1228</td>\n",
       "      <td>لپ تاپ و نوت بوک</td>\n",
       "      <td>8564</td>\n",
       "      <td>173.0</td>\n",
       "    </tr>\n",
       "    <tr>\n",
       "      <th>3</th>\n",
       "      <td>1092.0</td>\n",
       "      <td>1197</td>\n",
       "      <td>هدفون، هدست و هندزفری</td>\n",
       "      <td>1092</td>\n",
       "      <td>175.0</td>\n",
       "    </tr>\n",
       "    <tr>\n",
       "      <th>4</th>\n",
       "      <td>2999.0</td>\n",
       "      <td>1090</td>\n",
       "      <td>تلویزیون</td>\n",
       "      <td>2999</td>\n",
       "      <td>163.0</td>\n",
       "    </tr>\n",
       "    <tr>\n",
       "      <th>5</th>\n",
       "      <td>820.0</td>\n",
       "      <td>1015</td>\n",
       "      <td>کارت گرافیک</td>\n",
       "      <td>820</td>\n",
       "      <td>240.0</td>\n",
       "    </tr>\n",
       "    <tr>\n",
       "      <th>6</th>\n",
       "      <td>9663.0</td>\n",
       "      <td>670</td>\n",
       "      <td>کیف و کاور گوشی</td>\n",
       "      <td>9663</td>\n",
       "      <td>96.0</td>\n",
       "    </tr>\n",
       "    <tr>\n",
       "      <th>7</th>\n",
       "      <td>3424.0</td>\n",
       "      <td>538</td>\n",
       "      <td>ساعت و مچ بند هوشمند</td>\n",
       "      <td>3424</td>\n",
       "      <td>175.0</td>\n",
       "    </tr>\n",
       "    <tr>\n",
       "      <th>8</th>\n",
       "      <td>4476.0</td>\n",
       "      <td>507</td>\n",
       "      <td>کولر گازی</td>\n",
       "      <td>4476</td>\n",
       "      <td>2527.0</td>\n",
       "    </tr>\n",
       "    <tr>\n",
       "      <th>9</th>\n",
       "      <td>618.0</td>\n",
       "      <td>486</td>\n",
       "      <td>اسپرسو ساز</td>\n",
       "      <td>618</td>\n",
       "      <td>1309.0</td>\n",
       "    </tr>\n",
       "  </tbody>\n",
       "</table>\n",
       "</div>"
      ],
      "text/plain": [
       "   clicked category  count                  title    id  parent_category_id\n",
       "0            2580.0  10934            گوشی موبایل  2580               175.0\n",
       "1            3110.0   2762            روغن خوراکی  3110               482.0\n",
       "2            8564.0   1228       لپ تاپ و نوت بوک  8564               173.0\n",
       "3            1092.0   1197  هدفون، هدست و هندزفری  1092               175.0\n",
       "4            2999.0   1090               تلویزیون  2999               163.0\n",
       "5             820.0   1015            کارت گرافیک   820               240.0\n",
       "6            9663.0    670        کیف و کاور گوشی  9663                96.0\n",
       "7            3424.0    538   ساعت و مچ بند هوشمند  3424               175.0\n",
       "8            4476.0    507              کولر گازی  4476              2527.0\n",
       "9             618.0    486             اسپرسو ساز   618              1309.0"
      ]
     },
     "execution_count": 27,
     "metadata": {},
     "output_type": "execute_result"
    }
   ],
   "source": [
    "merge_for_most_clicked_categories = pd.merge(search_click_logs_df, search_logs_df, left_on='search_id', right_on='id')\n",
    "\n",
    "categories_id_df = pd.DataFrame({\n",
    "    'clicked category': merge_for_most_clicked_categories['category_id'].value_counts().index,\n",
    "    'count': merge_for_most_clicked_categories['category_id'].value_counts().values\n",
    "})\n",
    "\n",
    "a = pd.merge(categories_id_df, categories_df, left_on='clicked category', right_on='id')\n",
    "a.head(10)\n"
   ]
  }
 ],
 "metadata": {
  "kernelspec": {
   "display_name": "Python 3.9.12 ('base')",
   "language": "python",
   "name": "python3"
  },
  "language_info": {
   "codemirror_mode": {
    "name": "ipython",
    "version": 3
   },
   "file_extension": ".py",
   "mimetype": "text/x-python",
   "name": "python",
   "nbconvert_exporter": "python",
   "pygments_lexer": "ipython3",
   "version": "3.9.12"
  },
  "vscode": {
   "interpreter": {
    "hash": "a36ac3473f4f765ee1d32c07f947cfa193603dbfd7ba2aa7bf3e12c57f78d587"
   }
  }
 },
 "nbformat": 4,
 "nbformat_minor": 5
}
