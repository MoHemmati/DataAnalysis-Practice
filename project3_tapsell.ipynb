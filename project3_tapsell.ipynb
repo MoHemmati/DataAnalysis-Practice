{
 "cells": [
  {
   "cell_type": "markdown",
   "metadata": {},
   "source": [
    "# Project #3 - Predictive Analytics on Tapsell's Advertisement Dataset\n",
    "\n",
    "#### This data is mainly provided for the task of click prediction in Mediaad digital advertising platform. Mediaad shows native ads on website pages. Each webpage has some places that serve the advertisements which is called widgets. Each widget can show single or multiple ads. The goal of this task is to predict whether a user will click on a specific ad or not.\n",
    "\n",
    "#### In this notebook, you will be instructed to perform several steps of analysis in order to predict whether a user will click on an advertisement or not.\n",
    "\n",
    "#### Click on <a href=\"https://drive.google.com/file/d/1tVYbSaG0JdxTLLPSAESnBNvj_RIxKg5B/view?usp=sharing\">this link</a> to download the dataset and <a href=\"https://github.com/tapsellbrain/mediaad-dataset/wiki/Dataset-Description\">this link</a> to get more information about the dataset. "
   ]
  },
  {
   "cell_type": "markdown",
   "metadata": {},
   "source": [
    "## ➡️&nbsp; Loading The Dataset\n",
    "\n",
    "**Load `event.csv`, `user_page_view.csv`, `creative.csv`, `click_train.csv`, and `creative_image.csv`. Check for any missing, duplicated, or unrelated values and handle them properly.**"
   ]
  },
  {
   "cell_type": "code",
   "execution_count": 1,
   "metadata": {},
   "outputs": [],
   "source": [
    "import pandas as pd\n",
    "import numpy as np\n",
    "import matplotlib.pyplot as plt\n",
    "import sklearn\n",
    "import seaborn as sns\n",
    "from sklearn.model_selection import train_test_split\n",
    "from sklearn.preprocessing import MinMaxScaler\n",
    "from sklearn.preprocessing import PolynomialFeatures\n",
    "from sklearn.preprocessing import scale\n",
    "from sklearn.feature_selection import RFE\n",
    "from sklearn.linear_model import LinearRegression\n",
    "from sklearn.model_selection import cross_val_score\n",
    "from sklearn.model_selection import KFold\n",
    "from sklearn.model_selection import GridSearchCV\n",
    "from sklearn.pipeline import make_pipeline\n",
    "from sklearn.metrics import mean_squared_error, mean_absolute_error \n",
    "from sklearn.metrics import r2_score\n",
    "from sklearn.decomposition import PCA\n",
    "import re"
   ]
  },
  {
   "cell_type": "code",
   "execution_count": 2,
   "metadata": {},
   "outputs": [],
   "source": [
    "event_df = pd.read_csv('./csv_files_2/event.csv')\n",
    "user_page_view_df = pd.read_csv('./csv_files_2/user_page_view.csv')\n",
    "creative_df = pd.read_csv('./csv_files_2/creative.csv')\n",
    "click_train_df = pd.read_csv('./csv_files_2/click_train.csv')\n",
    "creative_image_df = pd.read_csv('./csv_files_2/creative_image.csv')\n"
   ]
  },
  {
   "cell_type": "code",
   "execution_count": 3,
   "metadata": {},
   "outputs": [
    {
     "name": "stdout",
     "output_type": "stream",
     "text": [
      "number of null for event is  0\n",
      "number of null for user page view is  0\n",
      "number of null for creative is  0\n",
      "number of null for click train is  0\n",
      "number of null for creative image is  0\n"
     ]
    }
   ],
   "source": [
    "print('number of null for event is ', np.sum(event_df.isnull().sum()))\n",
    "print('number of null for user page view is ', np.sum(user_page_view_df.isnull().sum()))\n",
    "print('number of null for creative is ', np.sum(creative_df.isnull().sum()))\n",
    "print('number of null for click train is ', np.sum(click_train_df.isnull().sum()))\n",
    "print('number of null for creative image is ', np.sum(creative_image_df.isnull().sum()))"
   ]
  },
  {
   "cell_type": "code",
   "execution_count": 42,
   "metadata": {},
   "outputs": [
    {
     "data": {
      "text/plain": [
       "0"
      ]
     },
     "execution_count": 42,
     "metadata": {},
     "output_type": "execute_result"
    }
   ],
   "source": [
    "event_df.duplicated().sum()"
   ]
  },
  {
   "cell_type": "code",
   "execution_count": 43,
   "metadata": {},
   "outputs": [
    {
     "data": {
      "text/plain": [
       "646270"
      ]
     },
     "execution_count": 43,
     "metadata": {},
     "output_type": "execute_result"
    }
   ],
   "source": [
    "print(user_page_view_df.duplicated().sum())\n",
    "user_page_view_df.drop_duplicates(inplace=True)\n",
    "user_page_view_df.reset_index(inplace=True, drop=True)"
   ]
  },
  {
   "cell_type": "markdown",
   "metadata": {},
   "source": [
    "## ➡️&nbsp; EDA\n",
    "\n",
    "**Find the top five advertisers with the most number of ads. How many advertisement campaigns does each one have?**"
   ]
  },
  {
   "cell_type": "code",
   "execution_count": 4,
   "metadata": {},
   "outputs": [
    {
     "data": {
      "text/plain": [
       "[8414, 6578, 2167, 7903, 6973]"
      ]
     },
     "execution_count": 4,
     "metadata": {},
     "output_type": "execute_result"
    }
   ],
   "source": [
    "top_five_advertisers = creative_df.advertiserId.value_counts().index[:5].tolist()\n",
    "top_five_advertisers"
   ]
  },
  {
   "cell_type": "code",
   "execution_count": 5,
   "metadata": {},
   "outputs": [
    {
     "data": {
      "text/plain": [
       "[array([2055, 5606, 5918, 6155, 7285, 8343]),\n",
       " array([ 693, 1474, 2552, 4227, 6344, 6850, 7270, 7426]),\n",
       " array([ 316, 2031, 2664, 4355, 5043, 6280, 6380, 7861, 8078, 8398, 8804,\n",
       "        8824, 8885, 9029]),\n",
       " array([1001, 3997, 4042, 4044, 4155, 4611, 5564, 6775, 6782, 7691, 8265,\n",
       "        8964]),\n",
       " array([ 784, 2837, 3674, 3771, 3930, 4416, 4566, 4956, 4981, 6070, 7143,\n",
       "        8449])]"
      ]
     },
     "execution_count": 5,
     "metadata": {},
     "output_type": "execute_result"
    }
   ],
   "source": [
    "[ np.unique(creative_df[creative_df['advertiserId'] == i]['campaignId']) for i in top_five_advertisers]"
   ]
  },
  {
   "cell_type": "markdown",
   "metadata": {},
   "source": [
    "**Which webpage (`docID`) received the biggest number of clicks? Which ads were displayed on that page?**"
   ]
  },
  {
   "cell_type": "code",
   "execution_count": 6,
   "metadata": {},
   "outputs": [
    {
     "data": {
      "text/plain": [
       "2285483    3594743\n",
       "8116       3009369\n",
       "197         984285\n",
       "1098340     855729\n",
       "8           663735\n",
       "            ...   \n",
       "7722313          1\n",
       "4080305          1\n",
       "7722330          1\n",
       "9092660          1\n",
       "4240042          1\n",
       "Name: docId, Length: 1265521, dtype: int64"
      ]
     },
     "execution_count": 6,
     "metadata": {},
     "output_type": "execute_result"
    }
   ],
   "source": [
    "user_page_view_df['docId'].value_counts()"
   ]
  },
  {
   "cell_type": "code",
   "execution_count": 7,
   "metadata": {},
   "outputs": [
    {
     "data": {
      "text/plain": [
       "8116       20023\n",
       "2285483    17862\n",
       "205         9588\n",
       "555         4915\n",
       "163         4427\n",
       "           ...  \n",
       "7530909        1\n",
       "8529925        1\n",
       "726341         1\n",
       "8529910        1\n",
       "6074354        1\n",
       "Name: docId, Length: 188417, dtype: int64"
      ]
     },
     "execution_count": 7,
     "metadata": {},
     "output_type": "execute_result"
    }
   ],
   "source": [
    "event_df['docId'].value_counts()"
   ]
  },
  {
   "cell_type": "markdown",
   "metadata": {},
   "source": [
    "**Using `event.csv` and `click_train.csv` tables, find the top 100 users who have clicked on ads more that any other person. What type of device they were using?**"
   ]
  },
  {
   "cell_type": "code",
   "execution_count": 8,
   "metadata": {},
   "outputs": [],
   "source": [
    "# unique_displayId , counts= np.unique(click_train_df['displayId'], return_counts=True)\n",
    "# # unique_displayId\n",
    "# number_of_clicked_unique_displayId = []\n",
    "# number_of_clicked_unique_displayId.append([(i,np.sum(click_train_df[click_train_df['displayId'] == i ]['clicked'])) for i in unique_displayId])\n",
    "# number_of_clicked_unique_displayId"
   ]
  },
  {
   "cell_type": "markdown",
   "metadata": {},
   "source": [
    "## ➡️ Coversion Rate\n",
    "\n",
    "**For each `creativeId` (a unique ID associated with each ad/creative) calculate how many times on average they were clicked on. We refer to this rate as \"conversion rate\". Draw a histogram of the conversion rates for all creativeId's.**"
   ]
  },
  {
   "cell_type": "code",
   "execution_count": 9,
   "metadata": {},
   "outputs": [],
   "source": [
    "unique_creativeId , counts= np.unique(click_train_df['creativeId'], return_counts=True)\n",
    "number_of_clicked_unique_creativeId = []\n",
    "number_of_clicked_unique_creativeId.append([(i,click_train_df[click_train_df['creativeId'] == i ]['clicked'].sum()/click_train_df['clicked'].sum()) for i in unique_creativeId])"
   ]
  },
  {
   "cell_type": "code",
   "execution_count": 10,
   "metadata": {},
   "outputs": [
    {
     "data": {
      "text/plain": [
       "2616"
      ]
     },
     "execution_count": 10,
     "metadata": {},
     "output_type": "execute_result"
    }
   ],
   "source": [
    "len(unique_creativeId)"
   ]
  },
  {
   "cell_type": "code",
   "execution_count": 11,
   "metadata": {},
   "outputs": [
    {
     "data": {
      "text/html": [
       "<div>\n",
       "<style scoped>\n",
       "    .dataframe tbody tr th:only-of-type {\n",
       "        vertical-align: middle;\n",
       "    }\n",
       "\n",
       "    .dataframe tbody tr th {\n",
       "        vertical-align: top;\n",
       "    }\n",
       "\n",
       "    .dataframe thead th {\n",
       "        text-align: right;\n",
       "    }\n",
       "</style>\n",
       "<table border=\"1\" class=\"dataframe\">\n",
       "  <thead>\n",
       "    <tr style=\"text-align: right;\">\n",
       "      <th></th>\n",
       "      <th>creative_id</th>\n",
       "      <th>conversion_rate</th>\n",
       "    </tr>\n",
       "  </thead>\n",
       "  <tbody>\n",
       "    <tr>\n",
       "      <th>0</th>\n",
       "      <td>6</td>\n",
       "      <td>0.008550</td>\n",
       "    </tr>\n",
       "    <tr>\n",
       "      <th>1</th>\n",
       "      <td>7</td>\n",
       "      <td>0.000751</td>\n",
       "    </tr>\n",
       "    <tr>\n",
       "      <th>2</th>\n",
       "      <td>8</td>\n",
       "      <td>0.003032</td>\n",
       "    </tr>\n",
       "    <tr>\n",
       "      <th>3</th>\n",
       "      <td>11</td>\n",
       "      <td>0.000512</td>\n",
       "    </tr>\n",
       "    <tr>\n",
       "      <th>4</th>\n",
       "      <td>13</td>\n",
       "      <td>0.000458</td>\n",
       "    </tr>\n",
       "    <tr>\n",
       "      <th>...</th>\n",
       "      <td>...</td>\n",
       "      <td>...</td>\n",
       "    </tr>\n",
       "    <tr>\n",
       "      <th>2611</th>\n",
       "      <td>7177</td>\n",
       "      <td>0.000025</td>\n",
       "    </tr>\n",
       "    <tr>\n",
       "      <th>2612</th>\n",
       "      <td>7178</td>\n",
       "      <td>0.000105</td>\n",
       "    </tr>\n",
       "    <tr>\n",
       "      <th>2613</th>\n",
       "      <td>7179</td>\n",
       "      <td>0.000038</td>\n",
       "    </tr>\n",
       "    <tr>\n",
       "      <th>2614</th>\n",
       "      <td>7181</td>\n",
       "      <td>0.000632</td>\n",
       "    </tr>\n",
       "    <tr>\n",
       "      <th>2615</th>\n",
       "      <td>7182</td>\n",
       "      <td>0.000873</td>\n",
       "    </tr>\n",
       "  </tbody>\n",
       "</table>\n",
       "<p>2616 rows × 2 columns</p>\n",
       "</div>"
      ],
      "text/plain": [
       "      creative_id  conversion_rate\n",
       "0               6         0.008550\n",
       "1               7         0.000751\n",
       "2               8         0.003032\n",
       "3              11         0.000512\n",
       "4              13         0.000458\n",
       "...           ...              ...\n",
       "2611         7177         0.000025\n",
       "2612         7178         0.000105\n",
       "2613         7179         0.000038\n",
       "2614         7181         0.000632\n",
       "2615         7182         0.000873\n",
       "\n",
       "[2616 rows x 2 columns]"
      ]
     },
     "execution_count": 11,
     "metadata": {},
     "output_type": "execute_result"
    }
   ],
   "source": [
    "number_of_clicked_unique_creativeId_df = pd.DataFrame(number_of_clicked_unique_creativeId[0], columns=['creative_id', 'conversion_rate'])\n",
    "number_of_clicked_unique_creativeId_df"
   ]
  },
  {
   "cell_type": "code",
   "execution_count": 12,
   "metadata": {},
   "outputs": [
    {
     "data": {
      "text/plain": [
       "<AxesSubplot:xlabel='creative_id', ylabel='conversion_rate'>"
      ]
     },
     "execution_count": 12,
     "metadata": {},
     "output_type": "execute_result"
    },
    {
     "data": {
      "image/png": "[encoded data removed]",
      "text/plain": [
       "<Figure size 432x288 with 1 Axes>"
      ]
     },
     "metadata": {
      "needs_background": "light"
     },
     "output_type": "display_data"
    }
   ],
   "source": [
    "sns.histplot(data=number_of_clicked_unique_creativeId_df, x='creative_id', y='conversion_rate')"
   ]
  },
  {
   "cell_type": "markdown",
   "metadata": {},
   "source": [
    "**For ads displayed to users with different device type (`device` in `event.csv`) calculated coversion rate? Do you observe any noticable difference between these groups?**"
   ]
  },
  {
   "cell_type": "code",
   "execution_count": 13,
   "metadata": {},
   "outputs": [],
   "source": [
    "# unique_userId , counts= np.unique(event_df['userId'], return_counts=True)\n",
    "\n",
    "# unique_userId_list = []\n",
    "# event_df[event_df['userId'] == 44 ]['device'] == 0\n",
    "# len(unique_userId)\n"
   ]
  },
  {
   "cell_type": "code",
   "execution_count": 14,
   "metadata": {},
   "outputs": [],
   "source": [
    "# a = []\n",
    "# a.append([(0 ,sum(event_df[event_df['userId'] == j ]['device'] == 0)) for j in unique_userId])\n"
   ]
  },
  {
   "cell_type": "markdown",
   "metadata": {},
   "source": [
    "**For ads displayed to users with different operating systems (`OS` in `event.csv`) calculated coversion rate? Do you observe any noticable difference between these groups?**"
   ]
  },
  {
   "cell_type": "code",
   "execution_count": null,
   "metadata": {},
   "outputs": [],
   "source": []
  },
  {
   "cell_type": "markdown",
   "metadata": {},
   "source": [
    "## ➡️ Coversion Rate Prediction\n",
    "\n",
    "**Using `creative_image.csv` we would like to predict a creativeId's conversion rate given its image features. Create a feature matrix and a target vector. Each row in feature matrix corresponds to a sample in the dataset and each column is associated with a certain feature that is extracted from ad images.**"
   ]
  },
  {
   "cell_type": "markdown",
   "metadata": {},
   "source": [
    "**Use a linear regression model to predict conversion rate given image features for each creativeId. Evaluate your model's performance using 5-fold cross-validation. Does adding polynomial features boost the performance? Use mean-squared-error as your evaluation metric.**"
   ]
  },
  {
   "cell_type": "code",
   "execution_count": 15,
   "metadata": {},
   "outputs": [
    {
     "data": {
      "text/html": [
       "<div>\n",
       "<style scoped>\n",
       "    .dataframe tbody tr th:only-of-type {\n",
       "        vertical-align: middle;\n",
       "    }\n",
       "\n",
       "    .dataframe tbody tr th {\n",
       "        vertical-align: top;\n",
       "    }\n",
       "\n",
       "    .dataframe thead th {\n",
       "        text-align: right;\n",
       "    }\n",
       "</style>\n",
       "<table border=\"1\" class=\"dataframe\">\n",
       "  <thead>\n",
       "    <tr style=\"text-align: right;\">\n",
       "      <th></th>\n",
       "      <th>creativeId</th>\n",
       "      <th>imageFeatures</th>\n",
       "      <th>conversion_rate</th>\n",
       "    </tr>\n",
       "  </thead>\n",
       "  <tbody>\n",
       "    <tr>\n",
       "      <th>0</th>\n",
       "      <td>7182</td>\n",
       "      <td>[0.17772938311100006, 0.6273877620697021, 0.55...</td>\n",
       "      <td>0.000873</td>\n",
       "    </tr>\n",
       "    <tr>\n",
       "      <th>1</th>\n",
       "      <td>7181</td>\n",
       "      <td>[0.27603843808174133, 0.1960456222295761, 0.34...</td>\n",
       "      <td>0.000632</td>\n",
       "    </tr>\n",
       "    <tr>\n",
       "      <th>2</th>\n",
       "      <td>7179</td>\n",
       "      <td>[0.2053901106119156, 0.0146206459030509, 0.0, ...</td>\n",
       "      <td>0.000038</td>\n",
       "    </tr>\n",
       "    <tr>\n",
       "      <th>3</th>\n",
       "      <td>7178</td>\n",
       "      <td>[1.1388229131698608, 0.041852112859487534, 0.0...</td>\n",
       "      <td>0.000105</td>\n",
       "    </tr>\n",
       "    <tr>\n",
       "      <th>4</th>\n",
       "      <td>7177</td>\n",
       "      <td>[0.974502444267273, 0.08183272927999496, 0.077...</td>\n",
       "      <td>0.000025</td>\n",
       "    </tr>\n",
       "    <tr>\n",
       "      <th>...</th>\n",
       "      <td>...</td>\n",
       "      <td>...</td>\n",
       "      <td>...</td>\n",
       "    </tr>\n",
       "    <tr>\n",
       "      <th>2611</th>\n",
       "      <td>13</td>\n",
       "      <td>[0.14816689491271973, 0.04346756637096405, 1.3...</td>\n",
       "      <td>0.000458</td>\n",
       "    </tr>\n",
       "    <tr>\n",
       "      <th>2612</th>\n",
       "      <td>11</td>\n",
       "      <td>[0.04297146946191788, 0.01642996445298195, 0.0...</td>\n",
       "      <td>0.000512</td>\n",
       "    </tr>\n",
       "    <tr>\n",
       "      <th>2613</th>\n",
       "      <td>8</td>\n",
       "      <td>[0.15623298287391663, 0.00098716514185071, 0.0...</td>\n",
       "      <td>0.003032</td>\n",
       "    </tr>\n",
       "    <tr>\n",
       "      <th>2614</th>\n",
       "      <td>7</td>\n",
       "      <td>[0.10627733916044235, 0.08754178136587143, 3.3...</td>\n",
       "      <td>0.000751</td>\n",
       "    </tr>\n",
       "    <tr>\n",
       "      <th>2615</th>\n",
       "      <td>6</td>\n",
       "      <td>[0.0, 0.0, 0.04975997656583786, 0.407063782215...</td>\n",
       "      <td>0.008550</td>\n",
       "    </tr>\n",
       "  </tbody>\n",
       "</table>\n",
       "<p>2616 rows × 3 columns</p>\n",
       "</div>"
      ],
      "text/plain": [
       "      creativeId                                      imageFeatures  \\\n",
       "0           7182  [0.17772938311100006, 0.6273877620697021, 0.55...   \n",
       "1           7181  [0.27603843808174133, 0.1960456222295761, 0.34...   \n",
       "2           7179  [0.2053901106119156, 0.0146206459030509, 0.0, ...   \n",
       "3           7178  [1.1388229131698608, 0.041852112859487534, 0.0...   \n",
       "4           7177  [0.974502444267273, 0.08183272927999496, 0.077...   \n",
       "...          ...                                                ...   \n",
       "2611          13  [0.14816689491271973, 0.04346756637096405, 1.3...   \n",
       "2612          11  [0.04297146946191788, 0.01642996445298195, 0.0...   \n",
       "2613           8  [0.15623298287391663, 0.00098716514185071, 0.0...   \n",
       "2614           7  [0.10627733916044235, 0.08754178136587143, 3.3...   \n",
       "2615           6  [0.0, 0.0, 0.04975997656583786, 0.407063782215...   \n",
       "\n",
       "      conversion_rate  \n",
       "0            0.000873  \n",
       "1            0.000632  \n",
       "2            0.000038  \n",
       "3            0.000105  \n",
       "4            0.000025  \n",
       "...               ...  \n",
       "2611         0.000458  \n",
       "2612         0.000512  \n",
       "2613         0.003032  \n",
       "2614         0.000751  \n",
       "2615         0.008550  \n",
       "\n",
       "[2616 rows x 3 columns]"
      ]
     },
     "execution_count": 15,
     "metadata": {},
     "output_type": "execute_result"
    }
   ],
   "source": [
    "merge_of_ci_and_nocucd = creative_image_df.merge(number_of_clicked_unique_creativeId_df, left_on='creativeId', right_on='creative_id')\n",
    "merge_of_ci_and_nocucd.drop(columns=['creative_id'], inplace=True)\n",
    "\n",
    "merge_of_ci_and_nocucd"
   ]
  },
  {
   "cell_type": "code",
   "execution_count": 16,
   "metadata": {},
   "outputs": [],
   "source": [
    "def transform_tonparr (x):\n",
    "    return np.fromstring(x[1:9694], dtype=np.float32, sep=',')"
   ]
  },
  {
   "cell_type": "code",
   "execution_count": null,
   "metadata": {},
   "outputs": [],
   "source": [
    "data_x = np.asarray(merge_of_ci_and_nocucd['imageFeatures'].apply(transform_tonparr))"
   ]
  },
  {
   "cell_type": "code",
   "execution_count": 18,
   "metadata": {},
   "outputs": [
    {
     "data": {
      "text/plain": [
       "449"
      ]
     },
     "execution_count": 18,
     "metadata": {},
     "output_type": "execute_result"
    }
   ],
   "source": [
    "index_list = []\n",
    "for i in range(len(data_x)):\n",
    "    if data_x[i].shape != (512,):\n",
    "       index_list.append(i)\n",
    "       \n",
    "len(index_list)"
   ]
  },
  {
   "cell_type": "code",
   "execution_count": 19,
   "metadata": {},
   "outputs": [
    {
     "data": {
      "text/html": [
       "<div>\n",
       "<style scoped>\n",
       "    .dataframe tbody tr th:only-of-type {\n",
       "        vertical-align: middle;\n",
       "    }\n",
       "\n",
       "    .dataframe tbody tr th {\n",
       "        vertical-align: top;\n",
       "    }\n",
       "\n",
       "    .dataframe thead th {\n",
       "        text-align: right;\n",
       "    }\n",
       "</style>\n",
       "<table border=\"1\" class=\"dataframe\">\n",
       "  <thead>\n",
       "    <tr style=\"text-align: right;\">\n",
       "      <th></th>\n",
       "      <th>creativeId</th>\n",
       "      <th>imageFeatures</th>\n",
       "      <th>conversion_rate</th>\n",
       "    </tr>\n",
       "  </thead>\n",
       "  <tbody>\n",
       "    <tr>\n",
       "      <th>0</th>\n",
       "      <td>7182</td>\n",
       "      <td>[0.17772938311100006, 0.6273877620697021, 0.55...</td>\n",
       "      <td>0.000873</td>\n",
       "    </tr>\n",
       "    <tr>\n",
       "      <th>1</th>\n",
       "      <td>7179</td>\n",
       "      <td>[0.2053901106119156, 0.0146206459030509, 0.0, ...</td>\n",
       "      <td>0.000038</td>\n",
       "    </tr>\n",
       "    <tr>\n",
       "      <th>2</th>\n",
       "      <td>7178</td>\n",
       "      <td>[1.1388229131698608, 0.041852112859487534, 0.0...</td>\n",
       "      <td>0.000105</td>\n",
       "    </tr>\n",
       "    <tr>\n",
       "      <th>3</th>\n",
       "      <td>7177</td>\n",
       "      <td>[0.974502444267273, 0.08183272927999496, 0.077...</td>\n",
       "      <td>0.000025</td>\n",
       "    </tr>\n",
       "    <tr>\n",
       "      <th>4</th>\n",
       "      <td>7176</td>\n",
       "      <td>[1.1482311487197876, 0.04249534755945206, 4.01...</td>\n",
       "      <td>0.000001</td>\n",
       "    </tr>\n",
       "    <tr>\n",
       "      <th>...</th>\n",
       "      <td>...</td>\n",
       "      <td>...</td>\n",
       "      <td>...</td>\n",
       "    </tr>\n",
       "    <tr>\n",
       "      <th>2162</th>\n",
       "      <td>17</td>\n",
       "      <td>[0.0, 0.03668755665421486, 0.0, 0.008968604728...</td>\n",
       "      <td>0.030849</td>\n",
       "    </tr>\n",
       "    <tr>\n",
       "      <th>2163</th>\n",
       "      <td>11</td>\n",
       "      <td>[0.04297146946191788, 0.01642996445298195, 0.0...</td>\n",
       "      <td>0.000512</td>\n",
       "    </tr>\n",
       "    <tr>\n",
       "      <th>2164</th>\n",
       "      <td>8</td>\n",
       "      <td>[0.15623298287391663, 0.00098716514185071, 0.0...</td>\n",
       "      <td>0.003032</td>\n",
       "    </tr>\n",
       "    <tr>\n",
       "      <th>2165</th>\n",
       "      <td>7</td>\n",
       "      <td>[0.10627733916044235, 0.08754178136587143, 3.3...</td>\n",
       "      <td>0.000751</td>\n",
       "    </tr>\n",
       "    <tr>\n",
       "      <th>2166</th>\n",
       "      <td>6</td>\n",
       "      <td>[0.0, 0.0, 0.04975997656583786, 0.407063782215...</td>\n",
       "      <td>0.008550</td>\n",
       "    </tr>\n",
       "  </tbody>\n",
       "</table>\n",
       "<p>2167 rows × 3 columns</p>\n",
       "</div>"
      ],
      "text/plain": [
       "      creativeId                                      imageFeatures  \\\n",
       "0           7182  [0.17772938311100006, 0.6273877620697021, 0.55...   \n",
       "1           7179  [0.2053901106119156, 0.0146206459030509, 0.0, ...   \n",
       "2           7178  [1.1388229131698608, 0.041852112859487534, 0.0...   \n",
       "3           7177  [0.974502444267273, 0.08183272927999496, 0.077...   \n",
       "4           7176  [1.1482311487197876, 0.04249534755945206, 4.01...   \n",
       "...          ...                                                ...   \n",
       "2162          17  [0.0, 0.03668755665421486, 0.0, 0.008968604728...   \n",
       "2163          11  [0.04297146946191788, 0.01642996445298195, 0.0...   \n",
       "2164           8  [0.15623298287391663, 0.00098716514185071, 0.0...   \n",
       "2165           7  [0.10627733916044235, 0.08754178136587143, 3.3...   \n",
       "2166           6  [0.0, 0.0, 0.04975997656583786, 0.407063782215...   \n",
       "\n",
       "      conversion_rate  \n",
       "0            0.000873  \n",
       "1            0.000038  \n",
       "2            0.000105  \n",
       "3            0.000025  \n",
       "4            0.000001  \n",
       "...               ...  \n",
       "2162         0.030849  \n",
       "2163         0.000512  \n",
       "2164         0.003032  \n",
       "2165         0.000751  \n",
       "2166         0.008550  \n",
       "\n",
       "[2167 rows x 3 columns]"
      ]
     },
     "execution_count": 19,
     "metadata": {},
     "output_type": "execute_result"
    }
   ],
   "source": [
    "merge_of_ci_and_nocucd.drop(index_list, inplace=True)\n",
    "merge_of_ci_and_nocucd.reset_index(drop=True)"
   ]
  },
  {
   "cell_type": "code",
   "execution_count": null,
   "metadata": {},
   "outputs": [],
   "source": [
    "data_x = merge_of_ci_and_nocucd['imageFeatures'].apply(transform_tonparr)\n",
    "data_y = np.asarray(merge_of_ci_and_nocucd['conversion_rate'])"
   ]
  },
  {
   "cell_type": "code",
   "execution_count": 21,
   "metadata": {},
   "outputs": [],
   "source": [
    "data_x.reset_index(inplace=True, drop=True)\n",
    "data_x_array = np.zeros((2167, 512))\n",
    "\n",
    "for i in range(data_x_array.shape[0]):\n",
    "    for j in range(data_x_array.shape[1]):\n",
    "        data_x_array[i][j] = data_x[i][j]\n",
    "data_x_array = data_x_array[:,:512]"
   ]
  },
  {
   "cell_type": "code",
   "execution_count": 22,
   "metadata": {},
   "outputs": [
    {
     "data": {
      "text/html": [
       "<div>\n",
       "<style scoped>\n",
       "    .dataframe tbody tr th:only-of-type {\n",
       "        vertical-align: middle;\n",
       "    }\n",
       "\n",
       "    .dataframe tbody tr th {\n",
       "        vertical-align: top;\n",
       "    }\n",
       "\n",
       "    .dataframe thead th {\n",
       "        text-align: right;\n",
       "    }\n",
       "</style>\n",
       "<table border=\"1\" class=\"dataframe\">\n",
       "  <thead>\n",
       "    <tr style=\"text-align: right;\">\n",
       "      <th></th>\n",
       "      <th>0</th>\n",
       "      <th>1</th>\n",
       "      <th>2</th>\n",
       "      <th>3</th>\n",
       "      <th>4</th>\n",
       "      <th>5</th>\n",
       "      <th>6</th>\n",
       "      <th>7</th>\n",
       "      <th>8</th>\n",
       "      <th>9</th>\n",
       "      <th>...</th>\n",
       "      <th>502</th>\n",
       "      <th>503</th>\n",
       "      <th>504</th>\n",
       "      <th>505</th>\n",
       "      <th>506</th>\n",
       "      <th>507</th>\n",
       "      <th>508</th>\n",
       "      <th>509</th>\n",
       "      <th>510</th>\n",
       "      <th>511</th>\n",
       "    </tr>\n",
       "  </thead>\n",
       "  <tbody>\n",
       "    <tr>\n",
       "      <th>0</th>\n",
       "      <td>0.177729</td>\n",
       "      <td>0.627388</td>\n",
       "      <td>0.554075</td>\n",
       "      <td>0.158078</td>\n",
       "      <td>0.000000</td>\n",
       "      <td>0.564610</td>\n",
       "      <td>0.012419</td>\n",
       "      <td>0.289449</td>\n",
       "      <td>0.384751</td>\n",
       "      <td>0.028059</td>\n",
       "      <td>...</td>\n",
       "      <td>0.291895</td>\n",
       "      <td>0.000000</td>\n",
       "      <td>1.638153</td>\n",
       "      <td>0.178412</td>\n",
       "      <td>1.086942</td>\n",
       "      <td>0.109618</td>\n",
       "      <td>3.026506</td>\n",
       "      <td>0.304689</td>\n",
       "      <td>0.195961</td>\n",
       "      <td>0.810012</td>\n",
       "    </tr>\n",
       "    <tr>\n",
       "      <th>1</th>\n",
       "      <td>0.205390</td>\n",
       "      <td>0.014621</td>\n",
       "      <td>0.000000</td>\n",
       "      <td>0.006130</td>\n",
       "      <td>0.136217</td>\n",
       "      <td>0.007052</td>\n",
       "      <td>0.132421</td>\n",
       "      <td>0.000000</td>\n",
       "      <td>0.000000</td>\n",
       "      <td>0.454989</td>\n",
       "      <td>...</td>\n",
       "      <td>0.063945</td>\n",
       "      <td>0.139984</td>\n",
       "      <td>0.935905</td>\n",
       "      <td>0.000000</td>\n",
       "      <td>0.025835</td>\n",
       "      <td>0.086115</td>\n",
       "      <td>0.043867</td>\n",
       "      <td>0.287675</td>\n",
       "      <td>0.443077</td>\n",
       "      <td>0.018351</td>\n",
       "    </tr>\n",
       "    <tr>\n",
       "      <th>2</th>\n",
       "      <td>1.138823</td>\n",
       "      <td>0.041852</td>\n",
       "      <td>0.000385</td>\n",
       "      <td>0.035156</td>\n",
       "      <td>0.377168</td>\n",
       "      <td>0.123878</td>\n",
       "      <td>1.203102</td>\n",
       "      <td>0.024890</td>\n",
       "      <td>0.674865</td>\n",
       "      <td>0.520424</td>\n",
       "      <td>...</td>\n",
       "      <td>0.048359</td>\n",
       "      <td>0.143126</td>\n",
       "      <td>0.506860</td>\n",
       "      <td>1.717038</td>\n",
       "      <td>0.500506</td>\n",
       "      <td>0.601653</td>\n",
       "      <td>0.292321</td>\n",
       "      <td>0.000000</td>\n",
       "      <td>0.811480</td>\n",
       "      <td>0.247876</td>\n",
       "    </tr>\n",
       "    <tr>\n",
       "      <th>3</th>\n",
       "      <td>0.974502</td>\n",
       "      <td>0.081833</td>\n",
       "      <td>0.077752</td>\n",
       "      <td>0.101681</td>\n",
       "      <td>0.560510</td>\n",
       "      <td>0.043694</td>\n",
       "      <td>1.515122</td>\n",
       "      <td>0.075695</td>\n",
       "      <td>0.951731</td>\n",
       "      <td>0.551668</td>\n",
       "      <td>...</td>\n",
       "      <td>0.106524</td>\n",
       "      <td>0.061194</td>\n",
       "      <td>0.234053</td>\n",
       "      <td>2.097951</td>\n",
       "      <td>0.974011</td>\n",
       "      <td>1.424949</td>\n",
       "      <td>0.100139</td>\n",
       "      <td>0.000000</td>\n",
       "      <td>0.537639</td>\n",
       "      <td>0.229753</td>\n",
       "    </tr>\n",
       "    <tr>\n",
       "      <th>4</th>\n",
       "      <td>1.148231</td>\n",
       "      <td>0.042495</td>\n",
       "      <td>0.000040</td>\n",
       "      <td>0.035591</td>\n",
       "      <td>0.374510</td>\n",
       "      <td>0.117952</td>\n",
       "      <td>1.176178</td>\n",
       "      <td>0.029085</td>\n",
       "      <td>0.661570</td>\n",
       "      <td>0.513891</td>\n",
       "      <td>...</td>\n",
       "      <td>0.046108</td>\n",
       "      <td>0.141073</td>\n",
       "      <td>0.511836</td>\n",
       "      <td>1.704248</td>\n",
       "      <td>0.510590</td>\n",
       "      <td>0.610252</td>\n",
       "      <td>0.296499</td>\n",
       "      <td>0.000000</td>\n",
       "      <td>0.787640</td>\n",
       "      <td>0.260506</td>\n",
       "    </tr>\n",
       "    <tr>\n",
       "      <th>...</th>\n",
       "      <td>...</td>\n",
       "      <td>...</td>\n",
       "      <td>...</td>\n",
       "      <td>...</td>\n",
       "      <td>...</td>\n",
       "      <td>...</td>\n",
       "      <td>...</td>\n",
       "      <td>...</td>\n",
       "      <td>...</td>\n",
       "      <td>...</td>\n",
       "      <td>...</td>\n",
       "      <td>...</td>\n",
       "      <td>...</td>\n",
       "      <td>...</td>\n",
       "      <td>...</td>\n",
       "      <td>...</td>\n",
       "      <td>...</td>\n",
       "      <td>...</td>\n",
       "      <td>...</td>\n",
       "      <td>...</td>\n",
       "      <td>...</td>\n",
       "    </tr>\n",
       "    <tr>\n",
       "      <th>2162</th>\n",
       "      <td>0.000000</td>\n",
       "      <td>0.036688</td>\n",
       "      <td>0.000000</td>\n",
       "      <td>0.008969</td>\n",
       "      <td>0.000000</td>\n",
       "      <td>0.016015</td>\n",
       "      <td>0.107154</td>\n",
       "      <td>0.082726</td>\n",
       "      <td>0.230364</td>\n",
       "      <td>0.538150</td>\n",
       "      <td>...</td>\n",
       "      <td>0.355940</td>\n",
       "      <td>0.095126</td>\n",
       "      <td>0.080091</td>\n",
       "      <td>0.000000</td>\n",
       "      <td>0.077815</td>\n",
       "      <td>0.023795</td>\n",
       "      <td>0.037816</td>\n",
       "      <td>0.068410</td>\n",
       "      <td>0.059110</td>\n",
       "      <td>0.046348</td>\n",
       "    </tr>\n",
       "    <tr>\n",
       "      <th>2163</th>\n",
       "      <td>0.042971</td>\n",
       "      <td>0.016430</td>\n",
       "      <td>0.070029</td>\n",
       "      <td>0.000000</td>\n",
       "      <td>0.562984</td>\n",
       "      <td>0.223415</td>\n",
       "      <td>1.144221</td>\n",
       "      <td>0.630494</td>\n",
       "      <td>0.123705</td>\n",
       "      <td>0.154114</td>\n",
       "      <td>...</td>\n",
       "      <td>0.058076</td>\n",
       "      <td>0.099905</td>\n",
       "      <td>1.024207</td>\n",
       "      <td>0.749125</td>\n",
       "      <td>0.017977</td>\n",
       "      <td>1.022663</td>\n",
       "      <td>2.738049</td>\n",
       "      <td>0.022185</td>\n",
       "      <td>0.135937</td>\n",
       "      <td>0.710172</td>\n",
       "    </tr>\n",
       "    <tr>\n",
       "      <th>2164</th>\n",
       "      <td>0.156233</td>\n",
       "      <td>0.000987</td>\n",
       "      <td>0.014774</td>\n",
       "      <td>0.207742</td>\n",
       "      <td>0.038036</td>\n",
       "      <td>0.011584</td>\n",
       "      <td>0.449074</td>\n",
       "      <td>0.066243</td>\n",
       "      <td>0.148653</td>\n",
       "      <td>0.325433</td>\n",
       "      <td>...</td>\n",
       "      <td>0.000000</td>\n",
       "      <td>0.000000</td>\n",
       "      <td>0.000000</td>\n",
       "      <td>0.441291</td>\n",
       "      <td>0.193914</td>\n",
       "      <td>0.639011</td>\n",
       "      <td>0.046036</td>\n",
       "      <td>0.000000</td>\n",
       "      <td>0.061070</td>\n",
       "      <td>0.125147</td>\n",
       "    </tr>\n",
       "    <tr>\n",
       "      <th>2165</th>\n",
       "      <td>0.106277</td>\n",
       "      <td>0.087542</td>\n",
       "      <td>3.344223</td>\n",
       "      <td>0.645454</td>\n",
       "      <td>1.301556</td>\n",
       "      <td>0.121954</td>\n",
       "      <td>0.000000</td>\n",
       "      <td>0.000000</td>\n",
       "      <td>0.000000</td>\n",
       "      <td>0.049404</td>\n",
       "      <td>...</td>\n",
       "      <td>0.938022</td>\n",
       "      <td>0.733772</td>\n",
       "      <td>0.000000</td>\n",
       "      <td>1.211627</td>\n",
       "      <td>0.486232</td>\n",
       "      <td>0.000000</td>\n",
       "      <td>0.118570</td>\n",
       "      <td>0.079808</td>\n",
       "      <td>0.159126</td>\n",
       "      <td>0.012901</td>\n",
       "    </tr>\n",
       "    <tr>\n",
       "      <th>2166</th>\n",
       "      <td>0.000000</td>\n",
       "      <td>0.000000</td>\n",
       "      <td>0.049760</td>\n",
       "      <td>0.407064</td>\n",
       "      <td>0.177637</td>\n",
       "      <td>0.071936</td>\n",
       "      <td>0.000000</td>\n",
       "      <td>0.000000</td>\n",
       "      <td>0.000000</td>\n",
       "      <td>0.001921</td>\n",
       "      <td>...</td>\n",
       "      <td>0.123998</td>\n",
       "      <td>0.454925</td>\n",
       "      <td>0.000000</td>\n",
       "      <td>0.010478</td>\n",
       "      <td>0.205283</td>\n",
       "      <td>0.000000</td>\n",
       "      <td>0.006869</td>\n",
       "      <td>0.366349</td>\n",
       "      <td>0.359391</td>\n",
       "      <td>0.000000</td>\n",
       "    </tr>\n",
       "  </tbody>\n",
       "</table>\n",
       "<p>2167 rows × 512 columns</p>\n",
       "</div>"
      ],
      "text/plain": [
       "           0         1         2         3         4         5         6    \\\n",
       "0     0.177729  0.627388  0.554075  0.158078  0.000000  0.564610  0.012419   \n",
       "1     0.205390  0.014621  0.000000  0.006130  0.136217  0.007052  0.132421   \n",
       "2     1.138823  0.041852  0.000385  0.035156  0.377168  0.123878  1.203102   \n",
       "3     0.974502  0.081833  0.077752  0.101681  0.560510  0.043694  1.515122   \n",
       "4     1.148231  0.042495  0.000040  0.035591  0.374510  0.117952  1.176178   \n",
       "...        ...       ...       ...       ...       ...       ...       ...   \n",
       "2162  0.000000  0.036688  0.000000  0.008969  0.000000  0.016015  0.107154   \n",
       "2163  0.042971  0.016430  0.070029  0.000000  0.562984  0.223415  1.144221   \n",
       "2164  0.156233  0.000987  0.014774  0.207742  0.038036  0.011584  0.449074   \n",
       "2165  0.106277  0.087542  3.344223  0.645454  1.301556  0.121954  0.000000   \n",
       "2166  0.000000  0.000000  0.049760  0.407064  0.177637  0.071936  0.000000   \n",
       "\n",
       "           7         8         9    ...       502       503       504  \\\n",
       "0     0.289449  0.384751  0.028059  ...  0.291895  0.000000  1.638153   \n",
       "1     0.000000  0.000000  0.454989  ...  0.063945  0.139984  0.935905   \n",
       "2     0.024890  0.674865  0.520424  ...  0.048359  0.143126  0.506860   \n",
       "3     0.075695  0.951731  0.551668  ...  0.106524  0.061194  0.234053   \n",
       "4     0.029085  0.661570  0.513891  ...  0.046108  0.141073  0.511836   \n",
       "...        ...       ...       ...  ...       ...       ...       ...   \n",
       "2162  0.082726  0.230364  0.538150  ...  0.355940  0.095126  0.080091   \n",
       "2163  0.630494  0.123705  0.154114  ...  0.058076  0.099905  1.024207   \n",
       "2164  0.066243  0.148653  0.325433  ...  0.000000  0.000000  0.000000   \n",
       "2165  0.000000  0.000000  0.049404  ...  0.938022  0.733772  0.000000   \n",
       "2166  0.000000  0.000000  0.001921  ...  0.123998  0.454925  0.000000   \n",
       "\n",
       "           505       506       507       508       509       510       511  \n",
       "0     0.178412  1.086942  0.109618  3.026506  0.304689  0.195961  0.810012  \n",
       "1     0.000000  0.025835  0.086115  0.043867  0.287675  0.443077  0.018351  \n",
       "2     1.717038  0.500506  0.601653  0.292321  0.000000  0.811480  0.247876  \n",
       "3     2.097951  0.974011  1.424949  0.100139  0.000000  0.537639  0.229753  \n",
       "4     1.704248  0.510590  0.610252  0.296499  0.000000  0.787640  0.260506  \n",
       "...        ...       ...       ...       ...       ...       ...       ...  \n",
       "2162  0.000000  0.077815  0.023795  0.037816  0.068410  0.059110  0.046348  \n",
       "2163  0.749125  0.017977  1.022663  2.738049  0.022185  0.135937  0.710172  \n",
       "2164  0.441291  0.193914  0.639011  0.046036  0.000000  0.061070  0.125147  \n",
       "2165  1.211627  0.486232  0.000000  0.118570  0.079808  0.159126  0.012901  \n",
       "2166  0.010478  0.205283  0.000000  0.006869  0.366349  0.359391  0.000000  \n",
       "\n",
       "[2167 rows x 512 columns]"
      ]
     },
     "execution_count": 22,
     "metadata": {},
     "output_type": "execute_result"
    }
   ],
   "source": [
    "data_y_df = pd.DataFrame({'Conversion_rate': data_y})\n",
    "data_x_df = pd.DataFrame(data_x_array)\n",
    "data_x_df\n"
   ]
  },
  {
   "cell_type": "code",
   "execution_count": 23,
   "metadata": {},
   "outputs": [],
   "source": [
    "X_train, X_test, y_train, y_test = train_test_split(data_x_df, data_y_df, test_size=0.33, random_state=42)"
   ]
  },
  {
   "cell_type": "code",
   "execution_count": 24,
   "metadata": {},
   "outputs": [
    {
     "data": {
      "text/plain": [
       "((1451, 512), (716, 512), (1451, 1), (716, 1))"
      ]
     },
     "execution_count": 24,
     "metadata": {},
     "output_type": "execute_result"
    }
   ],
   "source": [
    "X_train.shape, X_test.shape, y_train.shape, y_test.shape"
   ]
  },
  {
   "cell_type": "code",
   "execution_count": 25,
   "metadata": {},
   "outputs": [
    {
     "data": {
      "text/plain": [
       "array([-1.30525449, -0.76216456, -5.15683309, -2.78754728, -0.57452432])"
      ]
     },
     "execution_count": 25,
     "metadata": {},
     "output_type": "execute_result"
    }
   ],
   "source": [
    "lr = LinearRegression()\n",
    "scores = cross_val_score(lr, X_train, y_train, scoring='r2', cv=5)\n",
    "scores"
   ]
  },
  {
   "cell_type": "code",
   "execution_count": 26,
   "metadata": {},
   "outputs": [
    {
     "data": {
      "text/plain": [
       "LinearRegression()"
      ]
     },
     "execution_count": 26,
     "metadata": {},
     "output_type": "execute_result"
    }
   ],
   "source": [
    "lr.fit(X=X_train,y=y_train)"
   ]
  },
  {
   "cell_type": "code",
   "execution_count": 27,
   "metadata": {},
   "outputs": [
    {
     "data": {
      "text/plain": [
       "array([0.00084001])"
      ]
     },
     "execution_count": 27,
     "metadata": {},
     "output_type": "execute_result"
    }
   ],
   "source": [
    "predictions = lr.predict(X_test)\n",
    "predictions[0]"
   ]
  },
  {
   "cell_type": "code",
   "execution_count": 28,
   "metadata": {},
   "outputs": [
    {
     "data": {
      "text/plain": [
       "2.5859324457599465e-06"
      ]
     },
     "execution_count": 28,
     "metadata": {},
     "output_type": "execute_result"
    }
   ],
   "source": [
    "mean_squared_error(y_test, predictions)"
   ]
  },
  {
   "cell_type": "code",
   "execution_count": 29,
   "metadata": {},
   "outputs": [
    {
     "data": {
      "text/plain": [
       "0.001090276157887872"
      ]
     },
     "execution_count": 29,
     "metadata": {},
     "output_type": "execute_result"
    }
   ],
   "source": [
    "mean_absolute_error(y_test, predictions)"
   ]
  },
  {
   "cell_type": "code",
   "execution_count": 30,
   "metadata": {},
   "outputs": [
    {
     "data": {
      "text/plain": [
       "0.4711762032238874"
      ]
     },
     "execution_count": 30,
     "metadata": {},
     "output_type": "execute_result"
    }
   ],
   "source": [
    "lr.score(X_train,y_train)"
   ]
  },
  {
   "cell_type": "code",
   "execution_count": 31,
   "metadata": {},
   "outputs": [
    {
     "data": {
      "text/plain": [
       "-1.7876444878268112"
      ]
     },
     "execution_count": 31,
     "metadata": {},
     "output_type": "execute_result"
    }
   ],
   "source": [
    "r2_score(y_true=y_test,y_pred=predictions)"
   ]
  },
  {
   "cell_type": "markdown",
   "metadata": {},
   "source": [
    "**Find a subset of image features that contain the most amount of information about the target values. You may use correlation matrix for this purpose.**"
   ]
  },
  {
   "cell_type": "code",
   "execution_count": 32,
   "metadata": {},
   "outputs": [
    {
     "data": {
      "text/html": [
       "<div>\n",
       "<style scoped>\n",
       "    .dataframe tbody tr th:only-of-type {\n",
       "        vertical-align: middle;\n",
       "    }\n",
       "\n",
       "    .dataframe tbody tr th {\n",
       "        vertical-align: top;\n",
       "    }\n",
       "\n",
       "    .dataframe thead th {\n",
       "        text-align: right;\n",
       "    }\n",
       "</style>\n",
       "<table border=\"1\" class=\"dataframe\">\n",
       "  <thead>\n",
       "    <tr style=\"text-align: right;\">\n",
       "      <th></th>\n",
       "      <th>0</th>\n",
       "      <th>1</th>\n",
       "      <th>2</th>\n",
       "      <th>3</th>\n",
       "      <th>4</th>\n",
       "      <th>5</th>\n",
       "      <th>6</th>\n",
       "      <th>7</th>\n",
       "      <th>8</th>\n",
       "      <th>9</th>\n",
       "      <th>...</th>\n",
       "      <th>502</th>\n",
       "      <th>503</th>\n",
       "      <th>504</th>\n",
       "      <th>505</th>\n",
       "      <th>506</th>\n",
       "      <th>507</th>\n",
       "      <th>508</th>\n",
       "      <th>509</th>\n",
       "      <th>510</th>\n",
       "      <th>511</th>\n",
       "    </tr>\n",
       "  </thead>\n",
       "  <tbody>\n",
       "    <tr>\n",
       "      <th>0</th>\n",
       "      <td>1.000000</td>\n",
       "      <td>-0.041962</td>\n",
       "      <td>-0.167773</td>\n",
       "      <td>-0.156091</td>\n",
       "      <td>0.146929</td>\n",
       "      <td>0.006149</td>\n",
       "      <td>0.171778</td>\n",
       "      <td>-0.029683</td>\n",
       "      <td>0.192774</td>\n",
       "      <td>0.081956</td>\n",
       "      <td>...</td>\n",
       "      <td>-0.102248</td>\n",
       "      <td>-0.044358</td>\n",
       "      <td>0.104259</td>\n",
       "      <td>0.103855</td>\n",
       "      <td>0.493052</td>\n",
       "      <td>0.209943</td>\n",
       "      <td>-0.059952</td>\n",
       "      <td>-0.127424</td>\n",
       "      <td>0.215875</td>\n",
       "      <td>0.139543</td>\n",
       "    </tr>\n",
       "    <tr>\n",
       "      <th>1</th>\n",
       "      <td>-0.041962</td>\n",
       "      <td>1.000000</td>\n",
       "      <td>0.038932</td>\n",
       "      <td>-0.054015</td>\n",
       "      <td>-0.003891</td>\n",
       "      <td>0.172429</td>\n",
       "      <td>-0.045641</td>\n",
       "      <td>0.169393</td>\n",
       "      <td>0.041669</td>\n",
       "      <td>-0.012099</td>\n",
       "      <td>...</td>\n",
       "      <td>0.060993</td>\n",
       "      <td>0.101085</td>\n",
       "      <td>0.141441</td>\n",
       "      <td>0.015631</td>\n",
       "      <td>-0.077055</td>\n",
       "      <td>0.088219</td>\n",
       "      <td>0.010177</td>\n",
       "      <td>0.055734</td>\n",
       "      <td>0.138642</td>\n",
       "      <td>0.019276</td>\n",
       "    </tr>\n",
       "    <tr>\n",
       "      <th>2</th>\n",
       "      <td>-0.167773</td>\n",
       "      <td>0.038932</td>\n",
       "      <td>1.000000</td>\n",
       "      <td>0.231551</td>\n",
       "      <td>0.165345</td>\n",
       "      <td>-0.017470</td>\n",
       "      <td>-0.083602</td>\n",
       "      <td>-0.055390</td>\n",
       "      <td>-0.148802</td>\n",
       "      <td>-0.048301</td>\n",
       "      <td>...</td>\n",
       "      <td>0.369918</td>\n",
       "      <td>0.036954</td>\n",
       "      <td>-0.083189</td>\n",
       "      <td>0.096472</td>\n",
       "      <td>-0.058922</td>\n",
       "      <td>-0.157938</td>\n",
       "      <td>0.157972</td>\n",
       "      <td>0.131814</td>\n",
       "      <td>-0.013594</td>\n",
       "      <td>-0.151906</td>\n",
       "    </tr>\n",
       "    <tr>\n",
       "      <th>3</th>\n",
       "      <td>-0.156091</td>\n",
       "      <td>-0.054015</td>\n",
       "      <td>0.231551</td>\n",
       "      <td>1.000000</td>\n",
       "      <td>-0.010342</td>\n",
       "      <td>0.004429</td>\n",
       "      <td>-0.113943</td>\n",
       "      <td>-0.095054</td>\n",
       "      <td>-0.091192</td>\n",
       "      <td>-0.106132</td>\n",
       "      <td>...</td>\n",
       "      <td>0.119003</td>\n",
       "      <td>-0.015348</td>\n",
       "      <td>-0.163250</td>\n",
       "      <td>-0.087638</td>\n",
       "      <td>-0.011266</td>\n",
       "      <td>-0.184888</td>\n",
       "      <td>0.019459</td>\n",
       "      <td>0.077970</td>\n",
       "      <td>-0.114146</td>\n",
       "      <td>-0.175242</td>\n",
       "    </tr>\n",
       "    <tr>\n",
       "      <th>4</th>\n",
       "      <td>0.146929</td>\n",
       "      <td>-0.003891</td>\n",
       "      <td>0.165345</td>\n",
       "      <td>-0.010342</td>\n",
       "      <td>1.000000</td>\n",
       "      <td>0.095751</td>\n",
       "      <td>0.134065</td>\n",
       "      <td>-0.046160</td>\n",
       "      <td>0.038451</td>\n",
       "      <td>-0.035593</td>\n",
       "      <td>...</td>\n",
       "      <td>0.023446</td>\n",
       "      <td>-0.009384</td>\n",
       "      <td>0.054863</td>\n",
       "      <td>0.121655</td>\n",
       "      <td>0.134321</td>\n",
       "      <td>0.024873</td>\n",
       "      <td>0.065909</td>\n",
       "      <td>-0.019639</td>\n",
       "      <td>0.149446</td>\n",
       "      <td>-0.033986</td>\n",
       "    </tr>\n",
       "    <tr>\n",
       "      <th>...</th>\n",
       "      <td>...</td>\n",
       "      <td>...</td>\n",
       "      <td>...</td>\n",
       "      <td>...</td>\n",
       "      <td>...</td>\n",
       "      <td>...</td>\n",
       "      <td>...</td>\n",
       "      <td>...</td>\n",
       "      <td>...</td>\n",
       "      <td>...</td>\n",
       "      <td>...</td>\n",
       "      <td>...</td>\n",
       "      <td>...</td>\n",
       "      <td>...</td>\n",
       "      <td>...</td>\n",
       "      <td>...</td>\n",
       "      <td>...</td>\n",
       "      <td>...</td>\n",
       "      <td>...</td>\n",
       "      <td>...</td>\n",
       "      <td>...</td>\n",
       "    </tr>\n",
       "    <tr>\n",
       "      <th>507</th>\n",
       "      <td>0.209943</td>\n",
       "      <td>0.088219</td>\n",
       "      <td>-0.157938</td>\n",
       "      <td>-0.184888</td>\n",
       "      <td>0.024873</td>\n",
       "      <td>-0.084395</td>\n",
       "      <td>0.164122</td>\n",
       "      <td>0.021536</td>\n",
       "      <td>0.235400</td>\n",
       "      <td>0.046090</td>\n",
       "      <td>...</td>\n",
       "      <td>-0.014093</td>\n",
       "      <td>-0.082125</td>\n",
       "      <td>0.049341</td>\n",
       "      <td>0.134433</td>\n",
       "      <td>0.160276</td>\n",
       "      <td>1.000000</td>\n",
       "      <td>0.010780</td>\n",
       "      <td>-0.076136</td>\n",
       "      <td>0.109266</td>\n",
       "      <td>0.370253</td>\n",
       "    </tr>\n",
       "    <tr>\n",
       "      <th>508</th>\n",
       "      <td>-0.059952</td>\n",
       "      <td>0.010177</td>\n",
       "      <td>0.157972</td>\n",
       "      <td>0.019459</td>\n",
       "      <td>0.065909</td>\n",
       "      <td>0.062321</td>\n",
       "      <td>-0.097159</td>\n",
       "      <td>0.163895</td>\n",
       "      <td>-0.066216</td>\n",
       "      <td>-0.028172</td>\n",
       "      <td>...</td>\n",
       "      <td>0.266281</td>\n",
       "      <td>-0.110859</td>\n",
       "      <td>0.068646</td>\n",
       "      <td>0.088073</td>\n",
       "      <td>0.049408</td>\n",
       "      <td>0.010780</td>\n",
       "      <td>1.000000</td>\n",
       "      <td>0.010842</td>\n",
       "      <td>-0.045290</td>\n",
       "      <td>0.063417</td>\n",
       "    </tr>\n",
       "    <tr>\n",
       "      <th>509</th>\n",
       "      <td>-0.127424</td>\n",
       "      <td>0.055734</td>\n",
       "      <td>0.131814</td>\n",
       "      <td>0.077970</td>\n",
       "      <td>-0.019639</td>\n",
       "      <td>0.067280</td>\n",
       "      <td>-0.147069</td>\n",
       "      <td>0.153386</td>\n",
       "      <td>0.090195</td>\n",
       "      <td>-0.080556</td>\n",
       "      <td>...</td>\n",
       "      <td>0.108426</td>\n",
       "      <td>-0.021223</td>\n",
       "      <td>0.055457</td>\n",
       "      <td>-0.109866</td>\n",
       "      <td>-0.101230</td>\n",
       "      <td>-0.076136</td>\n",
       "      <td>0.010842</td>\n",
       "      <td>1.000000</td>\n",
       "      <td>-0.095732</td>\n",
       "      <td>-0.009980</td>\n",
       "    </tr>\n",
       "    <tr>\n",
       "      <th>510</th>\n",
       "      <td>0.215875</td>\n",
       "      <td>0.138642</td>\n",
       "      <td>-0.013594</td>\n",
       "      <td>-0.114146</td>\n",
       "      <td>0.149446</td>\n",
       "      <td>0.096049</td>\n",
       "      <td>0.129001</td>\n",
       "      <td>-0.030145</td>\n",
       "      <td>0.080972</td>\n",
       "      <td>0.149513</td>\n",
       "      <td>...</td>\n",
       "      <td>-0.007166</td>\n",
       "      <td>0.151161</td>\n",
       "      <td>0.183780</td>\n",
       "      <td>0.084349</td>\n",
       "      <td>0.106010</td>\n",
       "      <td>0.109266</td>\n",
       "      <td>-0.045290</td>\n",
       "      <td>-0.095732</td>\n",
       "      <td>1.000000</td>\n",
       "      <td>0.101451</td>\n",
       "    </tr>\n",
       "    <tr>\n",
       "      <th>511</th>\n",
       "      <td>0.139543</td>\n",
       "      <td>0.019276</td>\n",
       "      <td>-0.151906</td>\n",
       "      <td>-0.175242</td>\n",
       "      <td>-0.033986</td>\n",
       "      <td>-0.029149</td>\n",
       "      <td>-0.007565</td>\n",
       "      <td>0.012783</td>\n",
       "      <td>0.059105</td>\n",
       "      <td>0.063791</td>\n",
       "      <td>...</td>\n",
       "      <td>0.011235</td>\n",
       "      <td>-0.054826</td>\n",
       "      <td>0.125937</td>\n",
       "      <td>0.077705</td>\n",
       "      <td>0.054635</td>\n",
       "      <td>0.370253</td>\n",
       "      <td>0.063417</td>\n",
       "      <td>-0.009980</td>\n",
       "      <td>0.101451</td>\n",
       "      <td>1.000000</td>\n",
       "    </tr>\n",
       "  </tbody>\n",
       "</table>\n",
       "<p>512 rows × 512 columns</p>\n",
       "</div>"
      ],
      "text/plain": [
       "          0         1         2         3         4         5         6    \\\n",
       "0    1.000000 -0.041962 -0.167773 -0.156091  0.146929  0.006149  0.171778   \n",
       "1   -0.041962  1.000000  0.038932 -0.054015 -0.003891  0.172429 -0.045641   \n",
       "2   -0.167773  0.038932  1.000000  0.231551  0.165345 -0.017470 -0.083602   \n",
       "3   -0.156091 -0.054015  0.231551  1.000000 -0.010342  0.004429 -0.113943   \n",
       "4    0.146929 -0.003891  0.165345 -0.010342  1.000000  0.095751  0.134065   \n",
       "..        ...       ...       ...       ...       ...       ...       ...   \n",
       "507  0.209943  0.088219 -0.157938 -0.184888  0.024873 -0.084395  0.164122   \n",
       "508 -0.059952  0.010177  0.157972  0.019459  0.065909  0.062321 -0.097159   \n",
       "509 -0.127424  0.055734  0.131814  0.077970 -0.019639  0.067280 -0.147069   \n",
       "510  0.215875  0.138642 -0.013594 -0.114146  0.149446  0.096049  0.129001   \n",
       "511  0.139543  0.019276 -0.151906 -0.175242 -0.033986 -0.029149 -0.007565   \n",
       "\n",
       "          7         8         9    ...       502       503       504  \\\n",
       "0   -0.029683  0.192774  0.081956  ... -0.102248 -0.044358  0.104259   \n",
       "1    0.169393  0.041669 -0.012099  ...  0.060993  0.101085  0.141441   \n",
       "2   -0.055390 -0.148802 -0.048301  ...  0.369918  0.036954 -0.083189   \n",
       "3   -0.095054 -0.091192 -0.106132  ...  0.119003 -0.015348 -0.163250   \n",
       "4   -0.046160  0.038451 -0.035593  ...  0.023446 -0.009384  0.054863   \n",
       "..        ...       ...       ...  ...       ...       ...       ...   \n",
       "507  0.021536  0.235400  0.046090  ... -0.014093 -0.082125  0.049341   \n",
       "508  0.163895 -0.066216 -0.028172  ...  0.266281 -0.110859  0.068646   \n",
       "509  0.153386  0.090195 -0.080556  ...  0.108426 -0.021223  0.055457   \n",
       "510 -0.030145  0.080972  0.149513  ... -0.007166  0.151161  0.183780   \n",
       "511  0.012783  0.059105  0.063791  ...  0.011235 -0.054826  0.125937   \n",
       "\n",
       "          505       506       507       508       509       510       511  \n",
       "0    0.103855  0.493052  0.209943 -0.059952 -0.127424  0.215875  0.139543  \n",
       "1    0.015631 -0.077055  0.088219  0.010177  0.055734  0.138642  0.019276  \n",
       "2    0.096472 -0.058922 -0.157938  0.157972  0.131814 -0.013594 -0.151906  \n",
       "3   -0.087638 -0.011266 -0.184888  0.019459  0.077970 -0.114146 -0.175242  \n",
       "4    0.121655  0.134321  0.024873  0.065909 -0.019639  0.149446 -0.033986  \n",
       "..        ...       ...       ...       ...       ...       ...       ...  \n",
       "507  0.134433  0.160276  1.000000  0.010780 -0.076136  0.109266  0.370253  \n",
       "508  0.088073  0.049408  0.010780  1.000000  0.010842 -0.045290  0.063417  \n",
       "509 -0.109866 -0.101230 -0.076136  0.010842  1.000000 -0.095732 -0.009980  \n",
       "510  0.084349  0.106010  0.109266 -0.045290 -0.095732  1.000000  0.101451  \n",
       "511  0.077705  0.054635  0.370253  0.063417 -0.009980  0.101451  1.000000  \n",
       "\n",
       "[512 rows x 512 columns]"
      ]
     },
     "execution_count": 32,
     "metadata": {},
     "output_type": "execute_result"
    }
   ],
   "source": [
    "corrM = data_x_df.corr()\n",
    "corrM"
   ]
  },
  {
   "cell_type": "markdown",
   "metadata": {},
   "source": [
    "**Apply PCA on image features. Plot a diagram to depict variance accross each calculated principle componenet. Choose a few principle components along which image features has to larget variance.**"
   ]
  },
  {
   "cell_type": "code",
   "execution_count": null,
   "metadata": {},
   "outputs": [],
   "source": []
  },
  {
   "cell_type": "markdown",
   "metadata": {},
   "source": [
    "**Construct a linear regression model and fit the model on the transformed image features you calculated previously. Evaluate your model's performance using 5-fold cross-validation. Does transforming data using PCA help increase model's performance?**"
   ]
  },
  {
   "cell_type": "code",
   "execution_count": 33,
   "metadata": {},
   "outputs": [
    {
     "data": {
      "text/plain": [
       "LinearRegression()"
      ]
     },
     "execution_count": 33,
     "metadata": {},
     "output_type": "execute_result"
    }
   ],
   "source": [
    "pca = PCA(n_components=0.80)\n",
    "X_train_pca = pca.fit_transform(data_x_df)\n",
    "X_train, X_test, y_train, y_test = train_test_split(X_train_pca, data_y_df, test_size=0.33, random_state=42)\n",
    "\n",
    "lr.fit(X=X_train_pca,y=data_y_df)"
   ]
  },
  {
   "cell_type": "code",
   "execution_count": 34,
   "metadata": {},
   "outputs": [
    {
     "data": {
      "text/html": [
       "<div>\n",
       "<style scoped>\n",
       "    .dataframe tbody tr th:only-of-type {\n",
       "        vertical-align: middle;\n",
       "    }\n",
       "\n",
       "    .dataframe tbody tr th {\n",
       "        vertical-align: top;\n",
       "    }\n",
       "\n",
       "    .dataframe thead th {\n",
       "        text-align: right;\n",
       "    }\n",
       "</style>\n",
       "<table border=\"1\" class=\"dataframe\">\n",
       "  <thead>\n",
       "    <tr style=\"text-align: right;\">\n",
       "      <th></th>\n",
       "      <th>0</th>\n",
       "      <th>1</th>\n",
       "      <th>2</th>\n",
       "      <th>3</th>\n",
       "      <th>4</th>\n",
       "      <th>5</th>\n",
       "      <th>6</th>\n",
       "      <th>7</th>\n",
       "      <th>8</th>\n",
       "      <th>9</th>\n",
       "      <th>...</th>\n",
       "      <th>73</th>\n",
       "      <th>74</th>\n",
       "      <th>75</th>\n",
       "      <th>76</th>\n",
       "      <th>77</th>\n",
       "      <th>78</th>\n",
       "      <th>79</th>\n",
       "      <th>80</th>\n",
       "      <th>81</th>\n",
       "      <th>82</th>\n",
       "    </tr>\n",
       "  </thead>\n",
       "  <tbody>\n",
       "    <tr>\n",
       "      <th>count</th>\n",
       "      <td>2.167000e+03</td>\n",
       "      <td>2.167000e+03</td>\n",
       "      <td>2.167000e+03</td>\n",
       "      <td>2.167000e+03</td>\n",
       "      <td>2.167000e+03</td>\n",
       "      <td>2.167000e+03</td>\n",
       "      <td>2.167000e+03</td>\n",
       "      <td>2.167000e+03</td>\n",
       "      <td>2.167000e+03</td>\n",
       "      <td>2.167000e+03</td>\n",
       "      <td>...</td>\n",
       "      <td>2.167000e+03</td>\n",
       "      <td>2.167000e+03</td>\n",
       "      <td>2.167000e+03</td>\n",
       "      <td>2.167000e+03</td>\n",
       "      <td>2.167000e+03</td>\n",
       "      <td>2.167000e+03</td>\n",
       "      <td>2.167000e+03</td>\n",
       "      <td>2.167000e+03</td>\n",
       "      <td>2.167000e+03</td>\n",
       "      <td>2.167000e+03</td>\n",
       "    </tr>\n",
       "    <tr>\n",
       "      <th>mean</th>\n",
       "      <td>7.234125e-17</td>\n",
       "      <td>1.340260e-16</td>\n",
       "      <td>1.086143e-16</td>\n",
       "      <td>8.545695e-17</td>\n",
       "      <td>-2.390028e-16</td>\n",
       "      <td>1.160944e-16</td>\n",
       "      <td>-1.977601e-17</td>\n",
       "      <td>-1.798285e-17</td>\n",
       "      <td>-2.218397e-17</td>\n",
       "      <td>4.995235e-17</td>\n",
       "      <td>...</td>\n",
       "      <td>-1.905874e-17</td>\n",
       "      <td>-4.299745e-17</td>\n",
       "      <td>-1.081020e-17</td>\n",
       "      <td>2.751222e-17</td>\n",
       "      <td>2.290123e-17</td>\n",
       "      <td>-1.214707e-17</td>\n",
       "      <td>4.867152e-18</td>\n",
       "      <td>5.212976e-17</td>\n",
       "      <td>2.559097e-17</td>\n",
       "      <td>3.009949e-18</td>\n",
       "    </tr>\n",
       "    <tr>\n",
       "      <th>std</th>\n",
       "      <td>2.713779e+00</td>\n",
       "      <td>2.344216e+00</td>\n",
       "      <td>2.022902e+00</td>\n",
       "      <td>1.702421e+00</td>\n",
       "      <td>1.634471e+00</td>\n",
       "      <td>1.522627e+00</td>\n",
       "      <td>1.459834e+00</td>\n",
       "      <td>1.279683e+00</td>\n",
       "      <td>1.213672e+00</td>\n",
       "      <td>1.138424e+00</td>\n",
       "      <td>...</td>\n",
       "      <td>4.157202e-01</td>\n",
       "      <td>4.124631e-01</td>\n",
       "      <td>4.083533e-01</td>\n",
       "      <td>4.061622e-01</td>\n",
       "      <td>3.984805e-01</td>\n",
       "      <td>3.946868e-01</td>\n",
       "      <td>3.932866e-01</td>\n",
       "      <td>3.889203e-01</td>\n",
       "      <td>3.862511e-01</td>\n",
       "      <td>3.855113e-01</td>\n",
       "    </tr>\n",
       "    <tr>\n",
       "      <th>min</th>\n",
       "      <td>-4.654641e+00</td>\n",
       "      <td>-5.675842e+00</td>\n",
       "      <td>-4.325686e+00</td>\n",
       "      <td>-4.468697e+00</td>\n",
       "      <td>-5.256731e+00</td>\n",
       "      <td>-4.421132e+00</td>\n",
       "      <td>-4.443247e+00</td>\n",
       "      <td>-5.213183e+00</td>\n",
       "      <td>-4.001157e+00</td>\n",
       "      <td>-5.210483e+00</td>\n",
       "      <td>...</td>\n",
       "      <td>-1.679936e+00</td>\n",
       "      <td>-1.633740e+00</td>\n",
       "      <td>-1.540017e+00</td>\n",
       "      <td>-1.440681e+00</td>\n",
       "      <td>-1.874690e+00</td>\n",
       "      <td>-1.365015e+00</td>\n",
       "      <td>-1.869358e+00</td>\n",
       "      <td>-1.604495e+00</td>\n",
       "      <td>-1.499005e+00</td>\n",
       "      <td>-1.548784e+00</td>\n",
       "    </tr>\n",
       "    <tr>\n",
       "      <th>25%</th>\n",
       "      <td>-1.856414e+00</td>\n",
       "      <td>-1.907598e+00</td>\n",
       "      <td>-1.565815e+00</td>\n",
       "      <td>-1.178964e+00</td>\n",
       "      <td>-1.133281e+00</td>\n",
       "      <td>-1.029920e+00</td>\n",
       "      <td>-9.685998e-01</td>\n",
       "      <td>-7.166479e-01</td>\n",
       "      <td>-7.700514e-01</td>\n",
       "      <td>-6.443635e-01</td>\n",
       "      <td>...</td>\n",
       "      <td>-2.547532e-01</td>\n",
       "      <td>-2.714655e-01</td>\n",
       "      <td>-2.709534e-01</td>\n",
       "      <td>-2.331989e-01</td>\n",
       "      <td>-2.538542e-01</td>\n",
       "      <td>-2.505992e-01</td>\n",
       "      <td>-2.427171e-01</td>\n",
       "      <td>-2.304938e-01</td>\n",
       "      <td>-2.374408e-01</td>\n",
       "      <td>-2.367615e-01</td>\n",
       "    </tr>\n",
       "    <tr>\n",
       "      <th>50%</th>\n",
       "      <td>-5.144200e-01</td>\n",
       "      <td>-3.210499e-01</td>\n",
       "      <td>-3.001065e-01</td>\n",
       "      <td>-1.037949e-01</td>\n",
       "      <td>6.611099e-02</td>\n",
       "      <td>-1.002480e-01</td>\n",
       "      <td>-1.861678e-01</td>\n",
       "      <td>9.164326e-03</td>\n",
       "      <td>-1.360648e-01</td>\n",
       "      <td>-1.533332e-02</td>\n",
       "      <td>...</td>\n",
       "      <td>-2.780494e-03</td>\n",
       "      <td>-8.800590e-03</td>\n",
       "      <td>-6.836967e-03</td>\n",
       "      <td>-2.147906e-03</td>\n",
       "      <td>-1.379477e-02</td>\n",
       "      <td>-2.136651e-02</td>\n",
       "      <td>7.829745e-04</td>\n",
       "      <td>-1.738627e-02</td>\n",
       "      <td>7.172066e-03</td>\n",
       "      <td>-1.706113e-02</td>\n",
       "    </tr>\n",
       "    <tr>\n",
       "      <th>75%</th>\n",
       "      <td>1.269229e+00</td>\n",
       "      <td>1.883799e+00</td>\n",
       "      <td>1.269584e+00</td>\n",
       "      <td>9.187736e-01</td>\n",
       "      <td>1.064671e+00</td>\n",
       "      <td>1.003773e+00</td>\n",
       "      <td>9.316266e-01</td>\n",
       "      <td>6.465829e-01</td>\n",
       "      <td>6.781323e-01</td>\n",
       "      <td>6.891552e-01</td>\n",
       "      <td>...</td>\n",
       "      <td>2.587684e-01</td>\n",
       "      <td>2.383330e-01</td>\n",
       "      <td>2.566111e-01</td>\n",
       "      <td>2.582235e-01</td>\n",
       "      <td>2.167691e-01</td>\n",
       "      <td>2.526340e-01</td>\n",
       "      <td>2.204990e-01</td>\n",
       "      <td>2.317610e-01</td>\n",
       "      <td>2.483905e-01</td>\n",
       "      <td>2.435414e-01</td>\n",
       "    </tr>\n",
       "    <tr>\n",
       "      <th>max</th>\n",
       "      <td>1.061121e+01</td>\n",
       "      <td>6.943240e+00</td>\n",
       "      <td>9.028142e+00</td>\n",
       "      <td>8.914328e+00</td>\n",
       "      <td>7.415242e+00</td>\n",
       "      <td>4.895205e+00</td>\n",
       "      <td>4.487632e+00</td>\n",
       "      <td>6.167456e+00</td>\n",
       "      <td>4.501210e+00</td>\n",
       "      <td>8.777766e+00</td>\n",
       "      <td>...</td>\n",
       "      <td>2.165836e+00</td>\n",
       "      <td>2.177697e+00</td>\n",
       "      <td>1.811343e+00</td>\n",
       "      <td>1.788190e+00</td>\n",
       "      <td>2.280873e+00</td>\n",
       "      <td>1.898696e+00</td>\n",
       "      <td>2.788569e+00</td>\n",
       "      <td>1.642029e+00</td>\n",
       "      <td>1.965354e+00</td>\n",
       "      <td>1.632680e+00</td>\n",
       "    </tr>\n",
       "  </tbody>\n",
       "</table>\n",
       "<p>8 rows × 83 columns</p>\n",
       "</div>"
      ],
      "text/plain": [
       "                 0             1             2             3             4   \\\n",
       "count  2.167000e+03  2.167000e+03  2.167000e+03  2.167000e+03  2.167000e+03   \n",
       "mean   7.234125e-17  1.340260e-16  1.086143e-16  8.545695e-17 -2.390028e-16   \n",
       "std    2.713779e+00  2.344216e+00  2.022902e+00  1.702421e+00  1.634471e+00   \n",
       "min   -4.654641e+00 -5.675842e+00 -4.325686e+00 -4.468697e+00 -5.256731e+00   \n",
       "25%   -1.856414e+00 -1.907598e+00 -1.565815e+00 -1.178964e+00 -1.133281e+00   \n",
       "50%   -5.144200e-01 -3.210499e-01 -3.001065e-01 -1.037949e-01  6.611099e-02   \n",
       "75%    1.269229e+00  1.883799e+00  1.269584e+00  9.187736e-01  1.064671e+00   \n",
       "max    1.061121e+01  6.943240e+00  9.028142e+00  8.914328e+00  7.415242e+00   \n",
       "\n",
       "                 5             6             7             8             9   \\\n",
       "count  2.167000e+03  2.167000e+03  2.167000e+03  2.167000e+03  2.167000e+03   \n",
       "mean   1.160944e-16 -1.977601e-17 -1.798285e-17 -2.218397e-17  4.995235e-17   \n",
       "std    1.522627e+00  1.459834e+00  1.279683e+00  1.213672e+00  1.138424e+00   \n",
       "min   -4.421132e+00 -4.443247e+00 -5.213183e+00 -4.001157e+00 -5.210483e+00   \n",
       "25%   -1.029920e+00 -9.685998e-01 -7.166479e-01 -7.700514e-01 -6.443635e-01   \n",
       "50%   -1.002480e-01 -1.861678e-01  9.164326e-03 -1.360648e-01 -1.533332e-02   \n",
       "75%    1.003773e+00  9.316266e-01  6.465829e-01  6.781323e-01  6.891552e-01   \n",
       "max    4.895205e+00  4.487632e+00  6.167456e+00  4.501210e+00  8.777766e+00   \n",
       "\n",
       "       ...            73            74            75            76  \\\n",
       "count  ...  2.167000e+03  2.167000e+03  2.167000e+03  2.167000e+03   \n",
       "mean   ... -1.905874e-17 -4.299745e-17 -1.081020e-17  2.751222e-17   \n",
       "std    ...  4.157202e-01  4.124631e-01  4.083533e-01  4.061622e-01   \n",
       "min    ... -1.679936e+00 -1.633740e+00 -1.540017e+00 -1.440681e+00   \n",
       "25%    ... -2.547532e-01 -2.714655e-01 -2.709534e-01 -2.331989e-01   \n",
       "50%    ... -2.780494e-03 -8.800590e-03 -6.836967e-03 -2.147906e-03   \n",
       "75%    ...  2.587684e-01  2.383330e-01  2.566111e-01  2.582235e-01   \n",
       "max    ...  2.165836e+00  2.177697e+00  1.811343e+00  1.788190e+00   \n",
       "\n",
       "                 77            78            79            80            81  \\\n",
       "count  2.167000e+03  2.167000e+03  2.167000e+03  2.167000e+03  2.167000e+03   \n",
       "mean   2.290123e-17 -1.214707e-17  4.867152e-18  5.212976e-17  2.559097e-17   \n",
       "std    3.984805e-01  3.946868e-01  3.932866e-01  3.889203e-01  3.862511e-01   \n",
       "min   -1.874690e+00 -1.365015e+00 -1.869358e+00 -1.604495e+00 -1.499005e+00   \n",
       "25%   -2.538542e-01 -2.505992e-01 -2.427171e-01 -2.304938e-01 -2.374408e-01   \n",
       "50%   -1.379477e-02 -2.136651e-02  7.829745e-04 -1.738627e-02  7.172066e-03   \n",
       "75%    2.167691e-01  2.526340e-01  2.204990e-01  2.317610e-01  2.483905e-01   \n",
       "max    2.280873e+00  1.898696e+00  2.788569e+00  1.642029e+00  1.965354e+00   \n",
       "\n",
       "                 82  \n",
       "count  2.167000e+03  \n",
       "mean   3.009949e-18  \n",
       "std    3.855113e-01  \n",
       "min   -1.548784e+00  \n",
       "25%   -2.367615e-01  \n",
       "50%   -1.706113e-02  \n",
       "75%    2.435414e-01  \n",
       "max    1.632680e+00  \n",
       "\n",
       "[8 rows x 83 columns]"
      ]
     },
     "execution_count": 34,
     "metadata": {},
     "output_type": "execute_result"
    }
   ],
   "source": [
    "principalDf = pd.DataFrame(data = X_train_pca)\n",
    "principalDf.describe()"
   ]
  },
  {
   "cell_type": "code",
   "execution_count": 35,
   "metadata": {},
   "outputs": [
    {
     "data": {
      "text/plain": [
       "array([2.82018285e-05])"
      ]
     },
     "execution_count": 35,
     "metadata": {},
     "output_type": "execute_result"
    }
   ],
   "source": [
    "predictions = lr.predict(X_test)\n",
    "predictions[0]"
   ]
  },
  {
   "cell_type": "code",
   "execution_count": 36,
   "metadata": {},
   "outputs": [
    {
     "data": {
      "text/plain": [
       "9.25028824126823e-07"
      ]
     },
     "execution_count": 36,
     "metadata": {},
     "output_type": "execute_result"
    }
   ],
   "source": [
    "mean_squared_error(y_test, predictions)"
   ]
  },
  {
   "cell_type": "code",
   "execution_count": 37,
   "metadata": {},
   "outputs": [
    {
     "data": {
      "text/plain": [
       "0.0004796205475320769"
      ]
     },
     "execution_count": 37,
     "metadata": {},
     "output_type": "execute_result"
    }
   ],
   "source": [
    "mean_absolute_error(y_test, predictions)"
   ]
  },
  {
   "cell_type": "code",
   "execution_count": 38,
   "metadata": {},
   "outputs": [
    {
     "data": {
      "text/plain": [
       "0.08979205338560547"
      ]
     },
     "execution_count": 38,
     "metadata": {},
     "output_type": "execute_result"
    }
   ],
   "source": [
    "lr.score(X_train,y_train)"
   ]
  },
  {
   "cell_type": "code",
   "execution_count": 39,
   "metadata": {},
   "outputs": [
    {
     "data": {
      "text/plain": [
       "0.0028155967932690373"
      ]
     },
     "execution_count": 39,
     "metadata": {},
     "output_type": "execute_result"
    }
   ],
   "source": [
    "r2_score(y_true=y_test,y_pred=predictions)"
   ]
  }
 ],
 "metadata": {
  "kernelspec": {
   "display_name": "Python 3.9.12 ('base')",
   "language": "python",
   "name": "python3"
  },
  "language_info": {
   "codemirror_mode": {
    "name": "ipython",
    "version": 3
   },
   "file_extension": ".py",
   "mimetype": "text/x-python",
   "name": "python",
   "nbconvert_exporter": "python",
   "pygments_lexer": "ipython3",
   "version": "3.9.12"
  },
  "orig_nbformat": 4,
  "vscode": {
   "interpreter": {
    "hash": "2527f9680115565069df857fdf442e21ed4d5183404f173dd2444b338fe8435f"
   }
  }
 },
 "nbformat": 4,
 "nbformat_minor": 2
}
